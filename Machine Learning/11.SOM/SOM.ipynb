{
 "cells": [
  {
   "cell_type": "code",
   "execution_count": 15,
   "id": "77e06104",
   "metadata": {},
   "outputs": [],
   "source": [
    "import math\n",
    "import numpy as np\n",
    "import pandas as pd\n",
    "import matplotlib.pyplot as plt\n",
    "\n",
    "from pylab import bone, pcolor, colorbar, plot, show\n",
    "import pylab as pl"
   ]
  },
  {
   "cell_type": "code",
   "execution_count": 2,
   "id": "78f63a82",
   "metadata": {},
   "outputs": [
    {
     "data": {
      "text/html": [
       "<div>\n",
       "<style scoped>\n",
       "    .dataframe tbody tr th:only-of-type {\n",
       "        vertical-align: middle;\n",
       "    }\n",
       "\n",
       "    .dataframe tbody tr th {\n",
       "        vertical-align: top;\n",
       "    }\n",
       "\n",
       "    .dataframe thead th {\n",
       "        text-align: right;\n",
       "    }\n",
       "</style>\n",
       "<table border=\"1\" class=\"dataframe\">\n",
       "  <thead>\n",
       "    <tr style=\"text-align: right;\">\n",
       "      <th></th>\n",
       "      <th>CustomerID</th>\n",
       "      <th>A1</th>\n",
       "      <th>A2</th>\n",
       "      <th>A3</th>\n",
       "      <th>A4</th>\n",
       "      <th>A5</th>\n",
       "      <th>A6</th>\n",
       "      <th>A7</th>\n",
       "      <th>A8</th>\n",
       "      <th>A9</th>\n",
       "      <th>A10</th>\n",
       "      <th>A11</th>\n",
       "      <th>A12</th>\n",
       "      <th>A13</th>\n",
       "      <th>A14</th>\n",
       "      <th>Class</th>\n",
       "    </tr>\n",
       "  </thead>\n",
       "  <tbody>\n",
       "    <tr>\n",
       "      <th>0</th>\n",
       "      <td>15776156</td>\n",
       "      <td>1</td>\n",
       "      <td>22.08</td>\n",
       "      <td>11.460</td>\n",
       "      <td>2</td>\n",
       "      <td>4</td>\n",
       "      <td>4</td>\n",
       "      <td>1.585</td>\n",
       "      <td>0</td>\n",
       "      <td>0</td>\n",
       "      <td>0</td>\n",
       "      <td>1</td>\n",
       "      <td>2</td>\n",
       "      <td>100</td>\n",
       "      <td>1213</td>\n",
       "      <td>0</td>\n",
       "    </tr>\n",
       "    <tr>\n",
       "      <th>1</th>\n",
       "      <td>15739548</td>\n",
       "      <td>0</td>\n",
       "      <td>22.67</td>\n",
       "      <td>7.000</td>\n",
       "      <td>2</td>\n",
       "      <td>8</td>\n",
       "      <td>4</td>\n",
       "      <td>0.165</td>\n",
       "      <td>0</td>\n",
       "      <td>0</td>\n",
       "      <td>0</td>\n",
       "      <td>0</td>\n",
       "      <td>2</td>\n",
       "      <td>160</td>\n",
       "      <td>1</td>\n",
       "      <td>0</td>\n",
       "    </tr>\n",
       "    <tr>\n",
       "      <th>2</th>\n",
       "      <td>15662854</td>\n",
       "      <td>0</td>\n",
       "      <td>29.58</td>\n",
       "      <td>1.750</td>\n",
       "      <td>1</td>\n",
       "      <td>4</td>\n",
       "      <td>4</td>\n",
       "      <td>1.250</td>\n",
       "      <td>0</td>\n",
       "      <td>0</td>\n",
       "      <td>0</td>\n",
       "      <td>1</td>\n",
       "      <td>2</td>\n",
       "      <td>280</td>\n",
       "      <td>1</td>\n",
       "      <td>0</td>\n",
       "    </tr>\n",
       "    <tr>\n",
       "      <th>3</th>\n",
       "      <td>15687688</td>\n",
       "      <td>0</td>\n",
       "      <td>21.67</td>\n",
       "      <td>11.500</td>\n",
       "      <td>1</td>\n",
       "      <td>5</td>\n",
       "      <td>3</td>\n",
       "      <td>0.000</td>\n",
       "      <td>1</td>\n",
       "      <td>1</td>\n",
       "      <td>11</td>\n",
       "      <td>1</td>\n",
       "      <td>2</td>\n",
       "      <td>0</td>\n",
       "      <td>1</td>\n",
       "      <td>1</td>\n",
       "    </tr>\n",
       "    <tr>\n",
       "      <th>4</th>\n",
       "      <td>15715750</td>\n",
       "      <td>1</td>\n",
       "      <td>20.17</td>\n",
       "      <td>8.170</td>\n",
       "      <td>2</td>\n",
       "      <td>6</td>\n",
       "      <td>4</td>\n",
       "      <td>1.960</td>\n",
       "      <td>1</td>\n",
       "      <td>1</td>\n",
       "      <td>14</td>\n",
       "      <td>0</td>\n",
       "      <td>2</td>\n",
       "      <td>60</td>\n",
       "      <td>159</td>\n",
       "      <td>1</td>\n",
       "    </tr>\n",
       "    <tr>\n",
       "      <th>...</th>\n",
       "      <td>...</td>\n",
       "      <td>...</td>\n",
       "      <td>...</td>\n",
       "      <td>...</td>\n",
       "      <td>...</td>\n",
       "      <td>...</td>\n",
       "      <td>...</td>\n",
       "      <td>...</td>\n",
       "      <td>...</td>\n",
       "      <td>...</td>\n",
       "      <td>...</td>\n",
       "      <td>...</td>\n",
       "      <td>...</td>\n",
       "      <td>...</td>\n",
       "      <td>...</td>\n",
       "      <td>...</td>\n",
       "    </tr>\n",
       "    <tr>\n",
       "      <th>685</th>\n",
       "      <td>15808223</td>\n",
       "      <td>1</td>\n",
       "      <td>31.57</td>\n",
       "      <td>10.500</td>\n",
       "      <td>2</td>\n",
       "      <td>14</td>\n",
       "      <td>4</td>\n",
       "      <td>6.500</td>\n",
       "      <td>1</td>\n",
       "      <td>0</td>\n",
       "      <td>0</td>\n",
       "      <td>0</td>\n",
       "      <td>2</td>\n",
       "      <td>0</td>\n",
       "      <td>1</td>\n",
       "      <td>1</td>\n",
       "    </tr>\n",
       "    <tr>\n",
       "      <th>686</th>\n",
       "      <td>15769980</td>\n",
       "      <td>1</td>\n",
       "      <td>20.67</td>\n",
       "      <td>0.415</td>\n",
       "      <td>2</td>\n",
       "      <td>8</td>\n",
       "      <td>4</td>\n",
       "      <td>0.125</td>\n",
       "      <td>0</td>\n",
       "      <td>0</td>\n",
       "      <td>0</td>\n",
       "      <td>0</td>\n",
       "      <td>2</td>\n",
       "      <td>0</td>\n",
       "      <td>45</td>\n",
       "      <td>0</td>\n",
       "    </tr>\n",
       "    <tr>\n",
       "      <th>687</th>\n",
       "      <td>15675450</td>\n",
       "      <td>0</td>\n",
       "      <td>18.83</td>\n",
       "      <td>9.540</td>\n",
       "      <td>2</td>\n",
       "      <td>6</td>\n",
       "      <td>4</td>\n",
       "      <td>0.085</td>\n",
       "      <td>1</td>\n",
       "      <td>0</td>\n",
       "      <td>0</td>\n",
       "      <td>0</td>\n",
       "      <td>2</td>\n",
       "      <td>100</td>\n",
       "      <td>1</td>\n",
       "      <td>1</td>\n",
       "    </tr>\n",
       "    <tr>\n",
       "      <th>688</th>\n",
       "      <td>15776494</td>\n",
       "      <td>0</td>\n",
       "      <td>27.42</td>\n",
       "      <td>14.500</td>\n",
       "      <td>2</td>\n",
       "      <td>14</td>\n",
       "      <td>8</td>\n",
       "      <td>3.085</td>\n",
       "      <td>1</td>\n",
       "      <td>1</td>\n",
       "      <td>1</td>\n",
       "      <td>0</td>\n",
       "      <td>2</td>\n",
       "      <td>120</td>\n",
       "      <td>12</td>\n",
       "      <td>1</td>\n",
       "    </tr>\n",
       "    <tr>\n",
       "      <th>689</th>\n",
       "      <td>15592412</td>\n",
       "      <td>1</td>\n",
       "      <td>41.00</td>\n",
       "      <td>0.040</td>\n",
       "      <td>2</td>\n",
       "      <td>10</td>\n",
       "      <td>4</td>\n",
       "      <td>0.040</td>\n",
       "      <td>0</td>\n",
       "      <td>1</td>\n",
       "      <td>1</td>\n",
       "      <td>0</td>\n",
       "      <td>1</td>\n",
       "      <td>560</td>\n",
       "      <td>1</td>\n",
       "      <td>1</td>\n",
       "    </tr>\n",
       "  </tbody>\n",
       "</table>\n",
       "<p>690 rows × 16 columns</p>\n",
       "</div>"
      ],
      "text/plain": [
       "     CustomerID  A1     A2      A3  A4  A5  A6     A7  A8  A9  A10  A11  A12  \\\n",
       "0      15776156   1  22.08  11.460   2   4   4  1.585   0   0    0    1    2   \n",
       "1      15739548   0  22.67   7.000   2   8   4  0.165   0   0    0    0    2   \n",
       "2      15662854   0  29.58   1.750   1   4   4  1.250   0   0    0    1    2   \n",
       "3      15687688   0  21.67  11.500   1   5   3  0.000   1   1   11    1    2   \n",
       "4      15715750   1  20.17   8.170   2   6   4  1.960   1   1   14    0    2   \n",
       "..          ...  ..    ...     ...  ..  ..  ..    ...  ..  ..  ...  ...  ...   \n",
       "685    15808223   1  31.57  10.500   2  14   4  6.500   1   0    0    0    2   \n",
       "686    15769980   1  20.67   0.415   2   8   4  0.125   0   0    0    0    2   \n",
       "687    15675450   0  18.83   9.540   2   6   4  0.085   1   0    0    0    2   \n",
       "688    15776494   0  27.42  14.500   2  14   8  3.085   1   1    1    0    2   \n",
       "689    15592412   1  41.00   0.040   2  10   4  0.040   0   1    1    0    1   \n",
       "\n",
       "     A13   A14  Class  \n",
       "0    100  1213      0  \n",
       "1    160     1      0  \n",
       "2    280     1      0  \n",
       "3      0     1      1  \n",
       "4     60   159      1  \n",
       "..   ...   ...    ...  \n",
       "685    0     1      1  \n",
       "686    0    45      0  \n",
       "687  100     1      1  \n",
       "688  120    12      1  \n",
       "689  560     1      1  \n",
       "\n",
       "[690 rows x 16 columns]"
      ]
     },
     "execution_count": 2,
     "metadata": {},
     "output_type": "execute_result"
    }
   ],
   "source": [
    "data = pd.read_csv('Credit_Card_Applications.csv')\n",
    "data"
   ]
  },
  {
   "cell_type": "code",
   "execution_count": 3,
   "id": "39234f7b",
   "metadata": {},
   "outputs": [
    {
     "data": {
      "text/plain": [
       "(690, 16)"
      ]
     },
     "execution_count": 3,
     "metadata": {},
     "output_type": "execute_result"
    }
   ],
   "source": [
    "data.shape"
   ]
  },
  {
   "cell_type": "code",
   "execution_count": 7,
   "id": "62073212",
   "metadata": {},
   "outputs": [
    {
     "name": "stdout",
     "output_type": "stream",
     "text": [
      "<class 'pandas.core.frame.DataFrame'>\n",
      "RangeIndex: 690 entries, 0 to 689\n",
      "Data columns (total 16 columns):\n",
      " #   Column      Non-Null Count  Dtype  \n",
      "---  ------      --------------  -----  \n",
      " 0   CustomerID  690 non-null    int64  \n",
      " 1   A1          690 non-null    int64  \n",
      " 2   A2          690 non-null    float64\n",
      " 3   A3          690 non-null    float64\n",
      " 4   A4          690 non-null    int64  \n",
      " 5   A5          690 non-null    int64  \n",
      " 6   A6          690 non-null    int64  \n",
      " 7   A7          690 non-null    float64\n",
      " 8   A8          690 non-null    int64  \n",
      " 9   A9          690 non-null    int64  \n",
      " 10  A10         690 non-null    int64  \n",
      " 11  A11         690 non-null    int64  \n",
      " 12  A12         690 non-null    int64  \n",
      " 13  A13         690 non-null    int64  \n",
      " 14  A14         690 non-null    int64  \n",
      " 15  Class       690 non-null    int64  \n",
      "dtypes: float64(3), int64(13)\n",
      "memory usage: 86.4 KB\n"
     ]
    }
   ],
   "source": [
    "data.info()"
   ]
  },
  {
   "cell_type": "code",
   "execution_count": 16,
   "id": "20338ba4",
   "metadata": {},
   "outputs": [],
   "source": [
    "X = data.drop('Class', axis=1)\n",
    "y = data['Class']\n",
    "\n",
    "# X = dataset.iloc[:, :-1].values \n",
    "# y = dataset.iloc[:, -1].values"
   ]
  },
  {
   "cell_type": "code",
   "execution_count": null,
   "id": "7be454a0",
   "metadata": {},
   "outputs": [],
   "source": []
  },
  {
   "cell_type": "code",
   "execution_count": 29,
   "id": "aa504953",
   "metadata": {},
   "outputs": [],
   "source": [
    "from sklearn.preprocessing import MinMaxScaler\n",
    "sc = MinMaxScaler(feature_range = (0, 1))\n",
    "X = sc.fit_transform(X)"
   ]
  },
  {
   "cell_type": "code",
   "execution_count": 30,
   "id": "73a636a8",
   "metadata": {},
   "outputs": [],
   "source": [
    "map_size = 5 * math.sqrt(len(X))\n",
    "map_height = map_width = math.ceil(math.sqrt(map_size))"
   ]
  },
  {
   "cell_type": "code",
   "execution_count": 31,
   "id": "b48e5144",
   "metadata": {},
   "outputs": [
    {
     "name": "stdout",
     "output_type": "stream",
     "text": [
      "(map_height, map_width) = (12, 12)\n",
      "Number of features: 15\n"
     ]
    }
   ],
   "source": [
    "print(f'(map_height, map_width) = ({map_height}, {map_width})')\n",
    "print(f'Number of features: {X.shape[1]}')"
   ]
  },
  {
   "cell_type": "code",
   "execution_count": 32,
   "id": "e20257a5",
   "metadata": {},
   "outputs": [],
   "source": [
    "# from minisom import MiniSom\n",
    "\n",
    "# som = MiniSom(x=map_height, y=map_width, input_len=X.shape[1], sigma=1.0, learning_rate=0.5,\n",
    "#                topology='hexagonal', random_seed=123)\n"
   ]
  },
  {
   "cell_type": "code",
   "execution_count": 33,
   "id": "fac38b03",
   "metadata": {},
   "outputs": [],
   "source": [
    "# Set the hyper parameters\n",
    "som_grid_rows = 10\n",
    "som_grid_columns = 10\n",
    "iterations = 20000\n",
    "sigma = 1\n",
    "learning_rate = 0.5"
   ]
  },
  {
   "cell_type": "code",
   "execution_count": 47,
   "id": "01e96ab5",
   "metadata": {},
   "outputs": [],
   "source": [
    "# define SOM:\n",
    "\n",
    "som = MiniSom(x = som_grid_rows, y = som_grid_columns, input_len=15, sigma=sigma, learning_rate=learning_rate)\n",
    "\n",
    "# Initializing the weights\n",
    "\n",
    "som.random_weights_init(X)\n",
    "\n",
    "# Training\n",
    "\n",
    "som.train_random(X, iterations)"
   ]
  },
  {
   "cell_type": "code",
   "execution_count": 48,
   "id": "bbf49a82",
   "metadata": {},
   "outputs": [
    {
     "data": {
      "text/plain": [
       "array([[0.14763724, 0.38148829, 0.392561  , 0.32245742, 0.29892445,\n",
       "        0.46728545, 0.39559674, 0.48849159, 0.36964485, 0.17520913],\n",
       "       [0.42324335, 0.67059061, 0.62427358, 0.55580737, 0.53973292,\n",
       "        0.46335374, 0.5457965 , 0.54356547, 0.63330499, 0.31457028],\n",
       "       [0.41054269, 0.69776632, 0.64016483, 0.66197096, 0.45212025,\n",
       "        0.57708558, 0.45067532, 0.6467332 , 0.61871909, 0.49229849],\n",
       "       [0.30335172, 0.4871146 , 0.5204668 , 0.6074539 , 0.6743375 ,\n",
       "        0.47692616, 0.5863324 , 0.68062007, 0.81075011, 0.43401014],\n",
       "       [0.27880719, 0.49160292, 0.66956141, 0.75602173, 0.702193  ,\n",
       "        0.54638135, 0.57755315, 0.52599486, 0.54289774, 0.57253346],\n",
       "       [0.30866034, 0.6074839 , 0.66478797, 0.75028951, 0.70069113,\n",
       "        0.62314427, 0.53643866, 0.499558  , 0.54798678, 0.44588684],\n",
       "       [0.36008798, 0.57562747, 0.74284152, 0.81017544, 0.73870708,\n",
       "        0.61893861, 0.61472892, 0.60657259, 0.60861491, 0.30732284],\n",
       "       [0.46233332, 0.68599406, 0.75425281, 0.70702301, 0.6151103 ,\n",
       "        0.60399957, 0.71220563, 0.51742309, 0.51399507, 0.28052767],\n",
       "       [0.36227719, 0.56064302, 0.6382002 , 0.58876277, 0.54532098,\n",
       "        1.        , 0.5589115 , 0.48600326, 0.47996267, 0.28596312],\n",
       "       [0.16353015, 0.28273358, 0.37072526, 0.40590173, 0.35036513,\n",
       "        0.38001901, 0.38724204, 0.32297167, 0.2412058 , 0.17308795]])"
      ]
     },
     "execution_count": 48,
     "metadata": {},
     "output_type": "execute_result"
    }
   ],
   "source": [
    "import minisom\n",
    "# Weights are:\n",
    "wts = som.get_weights\n",
    "\n",
    "# Returns the distance map from the weights:\n",
    "som.distance_map()"
   ]
  },
  {
   "cell_type": "code",
   "execution_count": 49,
   "id": "7d34bd74",
   "metadata": {},
   "outputs": [
    {
     "data": {
      "image/png": "[encoded data removed]",
      "text/plain": [
       "<Figure size 432x288 with 2 Axes>"
      ]
     },
     "metadata": {
      "needs_background": "light"
     },
     "output_type": "display_data"
    }
   ],
   "source": [
    "from pylab import plot, axis, show, pcolor, colorbar, bone\n",
    "bone()\n",
    "pcolor(som.distance_map().T)       # Distance map as background\n",
    "colorbar()\n",
    "show()"
   ]
  },
  {
   "cell_type": "code",
   "execution_count": 50,
   "id": "ca7fdc71",
   "metadata": {},
   "outputs": [
    {
     "data": {
      "image/png": "[encoded data removed]",
      "text/plain": [
       "<Figure size 432x288 with 2 Axes>"
      ]
     },
     "metadata": {
      "needs_background": "light"
     },
     "output_type": "display_data"
    }
   ],
   "source": [
    "bone()\n",
    "\n",
    "pcolor(som.distance_map().T)\n",
    "\n",
    "colorbar() #gives legend\n",
    "\n",
    "markers = ['o', 's']                     # if the observation is fraud then red circular color or else green square\n",
    "\n",
    "colors = ['r', 'g']\n",
    "\n",
    "for i, x in enumerate(X):\n",
    "\n",
    "    w = som.winner(x)\n",
    "\n",
    "    plot(w[0] + 0.5,\n",
    "\n",
    "         w[1] + 0.5,\n",
    "\n",
    "         markers[y[i]],\n",
    "\n",
    "         markeredgecolor = colors[y[i]],\n",
    "\n",
    "         markerfacecolor = 'None',\n",
    "\n",
    "         markersize = 10,\n",
    "\n",
    "         markeredgewidth = 2)\n",
    "\n",
    "show()"
   ]
  },
  {
   "cell_type": "code",
   "execution_count": null,
   "id": "1ffeffff",
   "metadata": {},
   "outputs": [],
   "source": [
    " "
   ]
  }
 ],
 "metadata": {
  "kernelspec": {
   "display_name": "Python 3 (ipykernel)",
   "language": "python",
   "name": "python3"
  },
  "language_info": {
   "codemirror_mode": {
    "name": "ipython",
    "version": 3
   },
   "file_extension": ".py",
   "mimetype": "text/x-python",
   "name": "python",
   "nbconvert_exporter": "python",
   "pygments_lexer": "ipython3",
   "version": "3.9.7"
  }
 },
 "nbformat": 4,
 "nbformat_minor": 5
}
