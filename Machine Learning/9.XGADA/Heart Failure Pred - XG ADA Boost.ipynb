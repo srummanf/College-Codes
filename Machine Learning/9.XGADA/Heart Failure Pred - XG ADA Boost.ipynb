{
 "cells": [
  {
   "cell_type": "code",
   "execution_count": 2,
   "metadata": {
    "_cell_guid": "b1076dfc-b9ad-4769-8c92-a6c4dae69d19",
    "_uuid": "8f2839f25d086af736a60e9eeb907d3b93b6e0e5",
    "execution": {
     "iopub.execute_input": "2021-09-25T17:18:44.111721Z",
     "iopub.status.busy": "2021-09-25T17:18:44.111326Z",
     "iopub.status.idle": "2021-09-25T17:18:44.116510Z",
     "shell.execute_reply": "2021-09-25T17:18:44.115632Z",
     "shell.execute_reply.started": "2021-09-25T17:18:44.111685Z"
    }
   },
   "outputs": [],
   "source": [
    "import pandas as pd\n",
    "import matplotlib.pyplot as plt\n",
    "import seaborn as sns"
   ]
  },
  {
   "cell_type": "code",
   "execution_count": 3,
   "metadata": {
    "execution": {
     "iopub.execute_input": "2021-09-25T17:18:44.125337Z",
     "iopub.status.busy": "2021-09-25T17:18:44.124549Z",
     "iopub.status.idle": "2021-09-25T17:18:44.150602Z",
     "shell.execute_reply": "2021-09-25T17:18:44.149860Z",
     "shell.execute_reply.started": "2021-09-25T17:18:44.125297Z"
    }
   },
   "outputs": [
    {
     "data": {
      "text/html": [
       "<div>\n",
       "<style scoped>\n",
       "    .dataframe tbody tr th:only-of-type {\n",
       "        vertical-align: middle;\n",
       "    }\n",
       "\n",
       "    .dataframe tbody tr th {\n",
       "        vertical-align: top;\n",
       "    }\n",
       "\n",
       "    .dataframe thead th {\n",
       "        text-align: right;\n",
       "    }\n",
       "</style>\n",
       "<table border=\"1\" class=\"dataframe\">\n",
       "  <thead>\n",
       "    <tr style=\"text-align: right;\">\n",
       "      <th></th>\n",
       "      <th>Age</th>\n",
       "      <th>Sex</th>\n",
       "      <th>ChestPainType</th>\n",
       "      <th>RestingBP</th>\n",
       "      <th>Cholesterol</th>\n",
       "      <th>FastingBS</th>\n",
       "      <th>RestingECG</th>\n",
       "      <th>MaxHR</th>\n",
       "      <th>ExerciseAngina</th>\n",
       "      <th>Oldpeak</th>\n",
       "      <th>ST_Slope</th>\n",
       "      <th>HeartDisease</th>\n",
       "    </tr>\n",
       "  </thead>\n",
       "  <tbody>\n",
       "    <tr>\n",
       "      <th>0</th>\n",
       "      <td>40</td>\n",
       "      <td>M</td>\n",
       "      <td>ATA</td>\n",
       "      <td>140</td>\n",
       "      <td>289</td>\n",
       "      <td>0</td>\n",
       "      <td>Normal</td>\n",
       "      <td>172</td>\n",
       "      <td>N</td>\n",
       "      <td>0.0</td>\n",
       "      <td>Up</td>\n",
       "      <td>0</td>\n",
       "    </tr>\n",
       "    <tr>\n",
       "      <th>1</th>\n",
       "      <td>49</td>\n",
       "      <td>F</td>\n",
       "      <td>NAP</td>\n",
       "      <td>160</td>\n",
       "      <td>180</td>\n",
       "      <td>0</td>\n",
       "      <td>Normal</td>\n",
       "      <td>156</td>\n",
       "      <td>N</td>\n",
       "      <td>1.0</td>\n",
       "      <td>Flat</td>\n",
       "      <td>1</td>\n",
       "    </tr>\n",
       "    <tr>\n",
       "      <th>2</th>\n",
       "      <td>37</td>\n",
       "      <td>M</td>\n",
       "      <td>ATA</td>\n",
       "      <td>130</td>\n",
       "      <td>283</td>\n",
       "      <td>0</td>\n",
       "      <td>ST</td>\n",
       "      <td>98</td>\n",
       "      <td>N</td>\n",
       "      <td>0.0</td>\n",
       "      <td>Up</td>\n",
       "      <td>0</td>\n",
       "    </tr>\n",
       "    <tr>\n",
       "      <th>3</th>\n",
       "      <td>48</td>\n",
       "      <td>F</td>\n",
       "      <td>ASY</td>\n",
       "      <td>138</td>\n",
       "      <td>214</td>\n",
       "      <td>0</td>\n",
       "      <td>Normal</td>\n",
       "      <td>108</td>\n",
       "      <td>Y</td>\n",
       "      <td>1.5</td>\n",
       "      <td>Flat</td>\n",
       "      <td>1</td>\n",
       "    </tr>\n",
       "    <tr>\n",
       "      <th>4</th>\n",
       "      <td>54</td>\n",
       "      <td>M</td>\n",
       "      <td>NAP</td>\n",
       "      <td>150</td>\n",
       "      <td>195</td>\n",
       "      <td>0</td>\n",
       "      <td>Normal</td>\n",
       "      <td>122</td>\n",
       "      <td>N</td>\n",
       "      <td>0.0</td>\n",
       "      <td>Up</td>\n",
       "      <td>0</td>\n",
       "    </tr>\n",
       "  </tbody>\n",
       "</table>\n",
       "</div>"
      ],
      "text/plain": [
       "   Age Sex ChestPainType  RestingBP  Cholesterol  FastingBS RestingECG  MaxHR  \\\n",
       "0   40   M           ATA        140          289          0     Normal    172   \n",
       "1   49   F           NAP        160          180          0     Normal    156   \n",
       "2   37   M           ATA        130          283          0         ST     98   \n",
       "3   48   F           ASY        138          214          0     Normal    108   \n",
       "4   54   M           NAP        150          195          0     Normal    122   \n",
       "\n",
       "  ExerciseAngina  Oldpeak ST_Slope  HeartDisease  \n",
       "0              N      0.0       Up             0  \n",
       "1              N      1.0     Flat             1  \n",
       "2              N      0.0       Up             0  \n",
       "3              Y      1.5     Flat             1  \n",
       "4              N      0.0       Up             0  "
      ]
     },
     "execution_count": 3,
     "metadata": {},
     "output_type": "execute_result"
    }
   ],
   "source": [
    "df = pd.read_csv(\"heart.csv\")\n",
    "df.head()"
   ]
  },
  {
   "cell_type": "code",
   "execution_count": 4,
   "metadata": {
    "execution": {
     "iopub.execute_input": "2021-09-25T17:18:44.152524Z",
     "iopub.status.busy": "2021-09-25T17:18:44.152189Z",
     "iopub.status.idle": "2021-09-25T17:18:44.157512Z",
     "shell.execute_reply": "2021-09-25T17:18:44.156966Z",
     "shell.execute_reply.started": "2021-09-25T17:18:44.152494Z"
    }
   },
   "outputs": [
    {
     "data": {
      "text/plain": [
       "(918, 12)"
      ]
     },
     "execution_count": 4,
     "metadata": {},
     "output_type": "execute_result"
    }
   ],
   "source": [
    "df.shape"
   ]
  },
  {
   "cell_type": "code",
   "execution_count": 5,
   "metadata": {
    "execution": {
     "iopub.execute_input": "2021-09-25T17:18:44.158803Z",
     "iopub.status.busy": "2021-09-25T17:18:44.158487Z",
     "iopub.status.idle": "2021-09-25T17:18:44.173660Z",
     "shell.execute_reply": "2021-09-25T17:18:44.173104Z",
     "shell.execute_reply.started": "2021-09-25T17:18:44.158777Z"
    }
   },
   "outputs": [
    {
     "data": {
      "text/plain": [
       "Age               0\n",
       "Sex               0\n",
       "ChestPainType     0\n",
       "RestingBP         0\n",
       "Cholesterol       0\n",
       "FastingBS         0\n",
       "RestingECG        0\n",
       "MaxHR             0\n",
       "ExerciseAngina    0\n",
       "Oldpeak           0\n",
       "ST_Slope          0\n",
       "HeartDisease      0\n",
       "dtype: int64"
      ]
     },
     "execution_count": 5,
     "metadata": {},
     "output_type": "execute_result"
    }
   ],
   "source": [
    "df.isnull().sum()"
   ]
  },
  {
   "cell_type": "code",
   "execution_count": 6,
   "metadata": {
    "execution": {
     "iopub.execute_input": "2021-09-25T17:18:44.176255Z",
     "iopub.status.busy": "2021-09-25T17:18:44.175932Z",
     "iopub.status.idle": "2021-09-25T17:18:44.192863Z",
     "shell.execute_reply": "2021-09-25T17:18:44.191780Z",
     "shell.execute_reply.started": "2021-09-25T17:18:44.176214Z"
    }
   },
   "outputs": [
    {
     "name": "stdout",
     "output_type": "stream",
     "text": [
      "Sex: ['M' 'F']\n",
      "RestingECG: ['Normal' 'ST' 'LVH']\n",
      "ChestPainType: ['ATA' 'NAP' 'ASY' 'TA']\n",
      "ExerciseAngina: ['N' 'Y']\n",
      "ST_Slope: ['Up' 'Flat' 'Down']\n"
     ]
    }
   ],
   "source": [
    "print(\"Sex:\",df['Sex'].unique())\n",
    "print(\"RestingECG:\",df['RestingECG'].unique())\n",
    "print(\"ChestPainType:\",df['ChestPainType'].unique())\n",
    "print(\"ExerciseAngina:\",df['ExerciseAngina'].unique())\n",
    "print(\"ST_Slope:\",df['ST_Slope'].unique())"
   ]
  },
  {
   "cell_type": "code",
   "execution_count": 7,
   "metadata": {
    "execution": {
     "iopub.execute_input": "2021-09-25T17:18:44.195520Z",
     "iopub.status.busy": "2021-09-25T17:18:44.194875Z",
     "iopub.status.idle": "2021-09-25T17:18:44.855661Z",
     "shell.execute_reply": "2021-09-25T17:18:44.854692Z",
     "shell.execute_reply.started": "2021-09-25T17:18:44.195473Z"
    }
   },
   "outputs": [
    {
     "data": {
      "image/png": "[encoded data removed]",
      "text/plain": [
       "<Figure size 1080x720 with 6 Axes>"
      ]
     },
     "metadata": {
      "needs_background": "light"
     },
     "output_type": "display_data"
    }
   ],
   "source": [
    "f, axes = plt.subplots(2, 3, figsize=(15, 10))\n",
    "\n",
    "sns.countplot(x = df['HeartDisease'], data = df, palette='rocket', ax=axes[0,0])\n",
    "sns.countplot(x = df['RestingECG'], data = df, palette='rocket', ax=axes[0,1])\n",
    "sns.countplot(x = df['ChestPainType'], data = df, palette='rocket', ax=axes[0,2])\n",
    "\n",
    "sns.countplot(x = df['ExerciseAngina'], data = df, palette='rocket', ax=axes[1,0])\n",
    "sns.countplot(x = df['RestingECG'], data = df, palette='rocket', ax=axes[1,1])\n",
    "sns.countplot(x = df['Sex'], data = df, palette='rocket', ax=axes[1,2])\n",
    "plt.show()"
   ]
  },
  {
   "cell_type": "code",
   "execution_count": 8,
   "metadata": {
    "execution": {
     "iopub.execute_input": "2021-09-25T17:18:44.857204Z",
     "iopub.status.busy": "2021-09-25T17:18:44.856867Z",
     "iopub.status.idle": "2021-09-25T17:18:45.073232Z",
     "shell.execute_reply": "2021-09-25T17:18:45.072338Z",
     "shell.execute_reply.started": "2021-09-25T17:18:44.857168Z"
    }
   },
   "outputs": [
    {
     "data": {
      "text/plain": [
       "<Figure size 1080x720 with 0 Axes>"
      ]
     },
     "metadata": {},
     "output_type": "display_data"
    },
    {
     "data": {
      "image/png": "[encoded data removed]",
      "text/plain": [
       "<Figure size 360x360 with 1 Axes>"
      ]
     },
     "metadata": {
      "needs_background": "light"
     },
     "output_type": "display_data"
    }
   ],
   "source": [
    "plt.figure(figsize = (15, 10))\n",
    "sns.displot(df['RestingBP'], color = 'y', kind='kde')\n",
    "\n",
    "plt.show()"
   ]
  },
  {
   "cell_type": "code",
   "execution_count": 9,
   "metadata": {
    "execution": {
     "iopub.execute_input": "2021-09-25T17:18:45.074774Z",
     "iopub.status.busy": "2021-09-25T17:18:45.074521Z",
     "iopub.status.idle": "2021-09-25T17:18:45.444702Z",
     "shell.execute_reply": "2021-09-25T17:18:45.443881Z",
     "shell.execute_reply.started": "2021-09-25T17:18:45.074741Z"
    }
   },
   "outputs": [
    {
     "data": {
      "text/plain": [
       "<Figure size 1440x720 with 0 Axes>"
      ]
     },
     "metadata": {},
     "output_type": "display_data"
    },
    {
     "data": {
      "image/png": "[encoded data removed]",
      "text/plain": [
       "<Figure size 360x360 with 1 Axes>"
      ]
     },
     "metadata": {
      "needs_background": "light"
     },
     "output_type": "display_data"
    }
   ],
   "source": [
    "plt.figure(figsize = (20, 10))\n",
    "sns.displot(df['Cholesterol'])\n",
    "\n",
    "plt.show()"
   ]
  },
  {
   "cell_type": "code",
   "execution_count": 10,
   "metadata": {
    "execution": {
     "iopub.execute_input": "2021-09-25T17:18:45.446186Z",
     "iopub.status.busy": "2021-09-25T17:18:45.445878Z",
     "iopub.status.idle": "2021-09-25T17:18:45.467054Z",
     "shell.execute_reply": "2021-09-25T17:18:45.466470Z",
     "shell.execute_reply.started": "2021-09-25T17:18:45.446157Z"
    }
   },
   "outputs": [
    {
     "data": {
      "text/html": [
       "<div>\n",
       "<style scoped>\n",
       "    .dataframe tbody tr th:only-of-type {\n",
       "        vertical-align: middle;\n",
       "    }\n",
       "\n",
       "    .dataframe tbody tr th {\n",
       "        vertical-align: top;\n",
       "    }\n",
       "\n",
       "    .dataframe thead th {\n",
       "        text-align: right;\n",
       "    }\n",
       "</style>\n",
       "<table border=\"1\" class=\"dataframe\">\n",
       "  <thead>\n",
       "    <tr style=\"text-align: right;\">\n",
       "      <th></th>\n",
       "      <th>Age</th>\n",
       "      <th>Sex</th>\n",
       "      <th>ChestPainType</th>\n",
       "      <th>RestingBP</th>\n",
       "      <th>Cholesterol</th>\n",
       "      <th>FastingBS</th>\n",
       "      <th>RestingECG</th>\n",
       "      <th>MaxHR</th>\n",
       "      <th>ExerciseAngina</th>\n",
       "      <th>Oldpeak</th>\n",
       "      <th>ST_Slope</th>\n",
       "      <th>HeartDisease</th>\n",
       "    </tr>\n",
       "  </thead>\n",
       "  <tbody>\n",
       "    <tr>\n",
       "      <th>0</th>\n",
       "      <td>40</td>\n",
       "      <td>1</td>\n",
       "      <td>1</td>\n",
       "      <td>140</td>\n",
       "      <td>289</td>\n",
       "      <td>0</td>\n",
       "      <td>1</td>\n",
       "      <td>172</td>\n",
       "      <td>0</td>\n",
       "      <td>0.0</td>\n",
       "      <td>2</td>\n",
       "      <td>0</td>\n",
       "    </tr>\n",
       "    <tr>\n",
       "      <th>1</th>\n",
       "      <td>49</td>\n",
       "      <td>0</td>\n",
       "      <td>2</td>\n",
       "      <td>160</td>\n",
       "      <td>180</td>\n",
       "      <td>0</td>\n",
       "      <td>1</td>\n",
       "      <td>156</td>\n",
       "      <td>0</td>\n",
       "      <td>1.0</td>\n",
       "      <td>1</td>\n",
       "      <td>1</td>\n",
       "    </tr>\n",
       "    <tr>\n",
       "      <th>2</th>\n",
       "      <td>37</td>\n",
       "      <td>1</td>\n",
       "      <td>1</td>\n",
       "      <td>130</td>\n",
       "      <td>283</td>\n",
       "      <td>0</td>\n",
       "      <td>2</td>\n",
       "      <td>98</td>\n",
       "      <td>0</td>\n",
       "      <td>0.0</td>\n",
       "      <td>2</td>\n",
       "      <td>0</td>\n",
       "    </tr>\n",
       "    <tr>\n",
       "      <th>3</th>\n",
       "      <td>48</td>\n",
       "      <td>0</td>\n",
       "      <td>0</td>\n",
       "      <td>138</td>\n",
       "      <td>214</td>\n",
       "      <td>0</td>\n",
       "      <td>1</td>\n",
       "      <td>108</td>\n",
       "      <td>1</td>\n",
       "      <td>1.5</td>\n",
       "      <td>1</td>\n",
       "      <td>1</td>\n",
       "    </tr>\n",
       "    <tr>\n",
       "      <th>4</th>\n",
       "      <td>54</td>\n",
       "      <td>1</td>\n",
       "      <td>2</td>\n",
       "      <td>150</td>\n",
       "      <td>195</td>\n",
       "      <td>0</td>\n",
       "      <td>1</td>\n",
       "      <td>122</td>\n",
       "      <td>0</td>\n",
       "      <td>0.0</td>\n",
       "      <td>2</td>\n",
       "      <td>0</td>\n",
       "    </tr>\n",
       "  </tbody>\n",
       "</table>\n",
       "</div>"
      ],
      "text/plain": [
       "   Age  Sex  ChestPainType  RestingBP  Cholesterol  FastingBS  RestingECG  \\\n",
       "0   40    1              1        140          289          0           1   \n",
       "1   49    0              2        160          180          0           1   \n",
       "2   37    1              1        130          283          0           2   \n",
       "3   48    0              0        138          214          0           1   \n",
       "4   54    1              2        150          195          0           1   \n",
       "\n",
       "   MaxHR  ExerciseAngina  Oldpeak  ST_Slope  HeartDisease  \n",
       "0    172               0      0.0         2             0  \n",
       "1    156               0      1.0         1             1  \n",
       "2     98               0      0.0         2             0  \n",
       "3    108               1      1.5         1             1  \n",
       "4    122               0      0.0         2             0  "
      ]
     },
     "execution_count": 10,
     "metadata": {},
     "output_type": "execute_result"
    }
   ],
   "source": [
    "from sklearn.preprocessing import LabelEncoder\n",
    "\n",
    "le=LabelEncoder()\n",
    "\n",
    "df['Sex']=le.fit_transform(df['Sex'])\n",
    "df['RestingECG']=le.fit_transform(df['RestingECG'])\n",
    "df['ChestPainType']=le.fit_transform(df['ChestPainType'])\n",
    "df['ExerciseAngina']=le.fit_transform(df['ExerciseAngina'])\n",
    "df['ST_Slope']=le.fit_transform(df['ST_Slope'])\n",
    "\n",
    "df.head()"
   ]
  },
  {
   "cell_type": "code",
   "execution_count": 11,
   "metadata": {
    "execution": {
     "iopub.execute_input": "2021-09-25T17:18:45.468113Z",
     "iopub.status.busy": "2021-09-25T17:18:45.467896Z",
     "iopub.status.idle": "2021-09-25T17:18:46.633965Z",
     "shell.execute_reply": "2021-09-25T17:18:46.633114Z",
     "shell.execute_reply.started": "2021-09-25T17:18:45.468089Z"
    }
   },
   "outputs": [
    {
     "data": {
      "text/plain": [
       "<AxesSubplot:>"
      ]
     },
     "execution_count": 11,
     "metadata": {},
     "output_type": "execute_result"
    },
    {
     "data": {
      "image/png": "[encoded data removed]",
      "text/plain": [
       "<Figure size 1080x720 with 2 Axes>"
      ]
     },
     "metadata": {
      "needs_background": "light"
     },
     "output_type": "display_data"
    }
   ],
   "source": [
    "plt.figure(figsize=(15,10))\n",
    "sns.heatmap(df.corr(), annot=True, cmap='RdYlBu')"
   ]
  },
  {
   "cell_type": "code",
   "execution_count": 12,
   "metadata": {
    "execution": {
     "iopub.execute_input": "2021-09-25T17:18:46.636457Z",
     "iopub.status.busy": "2021-09-25T17:18:46.636201Z",
     "iopub.status.idle": "2021-09-25T17:18:46.644305Z",
     "shell.execute_reply": "2021-09-25T17:18:46.643466Z",
     "shell.execute_reply.started": "2021-09-25T17:18:46.636419Z"
    }
   },
   "outputs": [],
   "source": [
    "X = df.drop('HeartDisease', axis=1)\n",
    "y = df['HeartDisease']"
   ]
  },
  {
   "cell_type": "code",
   "execution_count": 13,
   "metadata": {
    "execution": {
     "iopub.execute_input": "2021-09-25T17:18:46.647749Z",
     "iopub.status.busy": "2021-09-25T17:18:46.647377Z",
     "iopub.status.idle": "2021-09-25T17:18:46.659308Z",
     "shell.execute_reply": "2021-09-25T17:18:46.657981Z",
     "shell.execute_reply.started": "2021-09-25T17:18:46.647703Z"
    }
   },
   "outputs": [
    {
     "name": "stdout",
     "output_type": "stream",
     "text": [
      "X_train:  (550, 11)\n",
      "X_test:  (368, 11)\n",
      "y_train:  (550,)\n",
      "y_test:  (368,)\n"
     ]
    }
   ],
   "source": [
    "from sklearn.model_selection import train_test_split\n",
    "\n",
    "X_train, X_test, y_train, y_test = train_test_split(X, y, test_size=0.4)\n",
    "\n",
    "print(\"X_train: \", X_train.shape)\n",
    "print(\"X_test: \", X_test.shape)\n",
    "print(\"y_train: \", y_train.shape)\n",
    "print(\"y_test: \", y_test.shape)"
   ]
  },
  {
   "cell_type": "markdown",
   "metadata": {},
   "source": [
    "# AdaBoost Classifier "
   ]
  },
  {
   "cell_type": "code",
   "execution_count": 14,
   "metadata": {
    "execution": {
     "iopub.execute_input": "2021-09-25T17:18:46.660722Z",
     "iopub.status.busy": "2021-09-25T17:18:46.660488Z",
     "iopub.status.idle": "2021-09-25T17:18:47.666321Z",
     "shell.execute_reply": "2021-09-25T17:18:47.665344Z",
     "shell.execute_reply.started": "2021-09-25T17:18:46.660693Z"
    }
   },
   "outputs": [],
   "source": [
    "from sklearn.ensemble import AdaBoostClassifier\n",
    "\n",
    "abc = AdaBoostClassifier(n_estimators=500, learning_rate=0.01, random_state=0)\n",
    "model = abc.fit(X_train, y_train)"
   ]
  },
  {
   "cell_type": "code",
   "execution_count": 15,
   "metadata": {
    "execution": {
     "iopub.execute_input": "2021-09-25T17:18:47.668284Z",
     "iopub.status.busy": "2021-09-25T17:18:47.667903Z",
     "iopub.status.idle": "2021-09-25T17:18:47.784878Z",
     "shell.execute_reply": "2021-09-25T17:18:47.783800Z",
     "shell.execute_reply.started": "2021-09-25T17:18:47.668235Z"
    }
   },
   "outputs": [
    {
     "name": "stdout",
     "output_type": "stream",
     "text": [
      "[0 0 0 0 0 1 1 0 1 0 1 0 1 0 1 0 0 0 1 1 0 1 0 0 1 1 0 1 1 1 0 0 1 0 1 1 1\n",
      " 1 0 0 0 1 1 1 0 1 0 1 1 0 1 0 0 1 1 1 1 1 0 1 0 1 1 0 1 0 0 0 1 0 0 1 0 1\n",
      " 1 0 0 1 1 1 0 1 1 0 1 0 0 1 0 0 0 0 0 1 0 1 0 1 0 1 0 1 1 0 1 1 1 1 0 0 0\n",
      " 1 0 1 1 0 1 1 1 0 1 1 1 1 0 1 0 0 1 0 0 1 1 0 1 0 0 1 0 0 1 1 1 1 0 0 1 0\n",
      " 1 1 0 1 0 1 1 1 1 0 0 1 1 0 1 0 1 0 0 1 1 1 1 1 1 0 0 1 1 1 0 1 0 1 1 0 0\n",
      " 0 1 1 0 0 0 0 0 1 0 1 0 1 1 1 1 0 0 0 1 1 1 0 1 1 0 1 1 0 1 0 0 1 0 0 1 1\n",
      " 0 1 0 1 1 0 1 1 1 1 1 0 1 1 0 1 0 1 1 0 1 1 0 1 1 0 1 1 0 0 0 0 0 1 0 1 1\n",
      " 1 1 1 1 0 0 1 1 1 0 1 1 1 0 1 1 1 1 0 1 1 1 1 1 0 0 1 0 0 1 1 1 0 1 1 0 1\n",
      " 1 1 1 1 1 1 1 0 1 1 0 1 0 1 1 1 1 1 0 0 0 0 0 0 0 1 0 0 0 1 0 0 1 0 1 0 1\n",
      " 1 0 0 0 0 1 1 0 1 1 1 0 1 1 0 0 1 1 1 0 0 0 1 0 0 0 0 0 1 1 1 1 0 0 0]\n"
     ]
    }
   ],
   "source": [
    "y_pred_adaboost = model.predict(X_test)\n",
    "print(y_pred_adaboost)"
   ]
  },
  {
   "cell_type": "code",
   "execution_count": 16,
   "metadata": {
    "execution": {
     "iopub.execute_input": "2021-09-25T17:18:47.786382Z",
     "iopub.status.busy": "2021-09-25T17:18:47.786171Z",
     "iopub.status.idle": "2021-09-25T17:18:47.792216Z",
     "shell.execute_reply": "2021-09-25T17:18:47.791303Z",
     "shell.execute_reply.started": "2021-09-25T17:18:47.786357Z"
    }
   },
   "outputs": [
    {
     "name": "stdout",
     "output_type": "stream",
     "text": [
      "AdaBoost Classifier Model Accuracy: 0.8722826086956522\n"
     ]
    }
   ],
   "source": [
    "from sklearn.metrics import accuracy_score\n",
    "\n",
    "print(\"AdaBoost Classifier Model Accuracy:\", accuracy_score(y_test, y_pred_adaboost))"
   ]
  },
  {
   "cell_type": "markdown",
   "metadata": {},
   "source": [
    "# XGBoost Classifier"
   ]
  },
  {
   "cell_type": "code",
   "execution_count": 17,
   "metadata": {
    "execution": {
     "iopub.execute_input": "2021-09-25T17:18:47.794113Z",
     "iopub.status.busy": "2021-09-25T17:18:47.793724Z",
     "iopub.status.idle": "2021-09-25T17:18:48.448360Z",
     "shell.execute_reply": "2021-09-25T17:18:48.447213Z",
     "shell.execute_reply.started": "2021-09-25T17:18:47.794075Z"
    }
   },
   "outputs": [],
   "source": [
    "from sklearn.ensemble import GradientBoostingClassifier\n",
    "\n",
    "gbc = GradientBoostingClassifier(n_estimators=500, learning_rate=0.01, random_state=0)\n",
    "model = gbc.fit(X_train, y_train)"
   ]
  },
  {
   "cell_type": "code",
   "execution_count": 18,
   "metadata": {
    "execution": {
     "iopub.execute_input": "2021-09-25T17:18:48.450351Z",
     "iopub.status.busy": "2021-09-25T17:18:48.450019Z",
     "iopub.status.idle": "2021-09-25T17:18:48.463718Z",
     "shell.execute_reply": "2021-09-25T17:18:48.462861Z",
     "shell.execute_reply.started": "2021-09-25T17:18:48.450312Z"
    }
   },
   "outputs": [
    {
     "name": "stdout",
     "output_type": "stream",
     "text": [
      "[0 1 0 0 1 1 1 0 1 0 1 0 1 0 1 0 0 0 1 1 0 1 0 0 1 1 0 1 1 1 0 0 1 0 1 1 1\n",
      " 1 0 0 0 0 1 1 0 1 0 1 1 0 1 0 0 1 1 1 1 1 0 1 0 1 1 0 1 0 0 0 1 0 1 1 0 1\n",
      " 1 0 0 0 0 1 0 1 1 0 1 1 0 1 0 1 0 0 0 1 0 1 0 1 0 0 0 1 1 0 1 1 1 1 0 0 0\n",
      " 1 0 1 0 0 1 0 1 0 1 1 1 1 0 1 0 0 1 0 0 1 1 0 1 1 1 1 0 0 1 1 1 1 0 1 1 0\n",
      " 1 1 0 1 0 1 1 0 1 1 0 1 1 0 1 0 1 0 0 1 1 1 1 1 1 0 0 1 1 1 0 1 0 1 1 0 0\n",
      " 1 1 1 0 0 0 0 0 1 0 1 0 0 1 1 1 0 0 0 1 1 1 0 1 1 0 1 1 0 1 0 0 1 0 0 1 1\n",
      " 0 1 0 1 1 0 1 1 1 1 1 0 1 1 0 1 0 1 1 0 1 1 0 1 1 0 1 1 0 0 0 0 0 1 0 1 1\n",
      " 1 1 1 1 0 0 1 1 1 0 1 1 1 0 1 1 1 1 0 1 1 1 1 1 0 0 1 0 0 1 1 1 0 1 1 0 1\n",
      " 1 1 1 1 1 1 1 0 1 1 1 1 0 1 1 1 0 1 0 1 0 0 0 0 0 1 0 0 0 1 0 0 1 0 1 0 1\n",
      " 1 0 0 0 0 1 1 0 0 1 1 0 1 1 0 1 1 1 1 0 0 0 1 0 0 0 0 0 1 1 1 1 1 0 0]\n"
     ]
    }
   ],
   "source": [
    "y_pred_xgboost = model.predict(X_test)\n",
    "print(y_pred_xgboost)"
   ]
  },
  {
   "cell_type": "code",
   "execution_count": 19,
   "metadata": {
    "execution": {
     "iopub.execute_input": "2021-09-25T17:18:48.465206Z",
     "iopub.status.busy": "2021-09-25T17:18:48.464898Z",
     "iopub.status.idle": "2021-09-25T17:18:48.478550Z",
     "shell.execute_reply": "2021-09-25T17:18:48.477658Z",
     "shell.execute_reply.started": "2021-09-25T17:18:48.465172Z"
    }
   },
   "outputs": [
    {
     "name": "stdout",
     "output_type": "stream",
     "text": [
      "XGBoost Classifier Model Accuracy: 0.904891304347826\n"
     ]
    }
   ],
   "source": [
    "from sklearn.metrics import accuracy_score\n",
    "\n",
    "print(\"XGBoost Classifier Model Accuracy:\", accuracy_score(y_test, y_pred_xgboost))"
   ]
  },
  {
   "cell_type": "markdown",
   "metadata": {},
   "source": [
    "# Comparision between Adaboost and XGboost"
   ]
  },
  {
   "cell_type": "code",
   "execution_count": 20,
   "metadata": {
    "execution": {
     "iopub.execute_input": "2021-09-25T17:18:48.480330Z",
     "iopub.status.busy": "2021-09-25T17:18:48.479973Z",
     "iopub.status.idle": "2021-09-25T17:18:48.665927Z",
     "shell.execute_reply": "2021-09-25T17:18:48.665109Z",
     "shell.execute_reply.started": "2021-09-25T17:18:48.480298Z"
    }
   },
   "outputs": [
    {
     "data": {
      "text/plain": [
       "<AxesSubplot:xlabel='accuracy', ylabel='algorithms'>"
      ]
     },
     "execution_count": 20,
     "metadata": {},
     "output_type": "execute_result"
    },
    {
     "data": {
      "image/png": "[encoded data removed]",
      "text/plain": [
       "<Figure size 432x288 with 1 Axes>"
      ]
     },
     "metadata": {
      "needs_background": "light"
     },
     "output_type": "display_data"
    }
   ],
   "source": [
    "acc = pd.DataFrame({\n",
    "    \"algorithms\": ['Adaboost', 'Xgboost'],\n",
    "    \"accuracy\": [accuracy_score(y_test, y_pred_adaboost),accuracy_score(y_test, y_pred_xgboost)]\n",
    "})\n",
    "sns.barplot(x='accuracy', y='algorithms', data=acc, palette='rocket')"
   ]
  },
  {
   "cell_type": "markdown",
   "metadata": {},
   "source": [
    "To conclude, we can say that Xgboost is slightly works better than Adaboost."
   ]
  },
  {
   "cell_type": "code",
   "execution_count": 21,
   "metadata": {},
   "outputs": [
    {
     "data": {
      "text/plain": [
       "array([0.   , 0.132, 0.192, 0.004, 0.104, 0.122, 0.   , 0.008, 0.1  ,\n",
       "       0.11 , 0.228])"
      ]
     },
     "execution_count": 21,
     "metadata": {},
     "output_type": "execute_result"
    }
   ],
   "source": [
    "abc.feature_importances_"
   ]
  },
  {
   "cell_type": "code",
   "execution_count": 26,
   "metadata": {},
   "outputs": [
    {
     "name": "stdout",
     "output_type": "stream",
     "text": [
      "XGBoost's prediction accuracy is: 89.13\n",
      "Time consumed for training: 0.095\n",
      "Time consumed for prediction: 0.00476 seconds\n"
     ]
    }
   ],
   "source": [
    "from xgboost import XGBClassifier\n",
    "import time\n",
    "\n",
    "xgb = XGBClassifier(n_estimators=100)\n",
    "\n",
    "training_start = time.perf_counter()\n",
    "xgb.fit(X_train, y_train)\n",
    "training_end = time.perf_counter()\n",
    "\n",
    "prediction_start = time.perf_counter()\n",
    "preds = xgb.predict(X_test)\n",
    "prediction_end = time.perf_counter()\n",
    "\n",
    "acc_xgb = (preds == y_test).sum().astype(float) / len(preds)*100\n",
    "xgb_train_time = training_end-training_start\n",
    "xgb_prediction_time = prediction_end-prediction_start\n",
    "print(\"XGBoost's prediction accuracy is: %3.2f\" % (acc_xgb))\n",
    "print(\"Time consumed for training: %4.3f\" % (xgb_train_time))\n",
    "print(\"Time consumed for prediction: %6.5f seconds\" % (xgb_prediction_time))"
   ]
  },
  {
   "cell_type": "code",
   "execution_count": 24,
   "metadata": {},
   "outputs": [
    {
     "name": "stdout",
     "output_type": "stream",
     "text": [
      "Collecting xgboost\n",
      "  Downloading xgboost-2.0.3-py3-none-win_amd64.whl (99.8 MB)\n",
      "Requirement already satisfied: scipy in c:\\users\\rumman fardeen\\anaconda3\\lib\\site-packages (from xgboost) (1.7.1)\n",
      "Requirement already satisfied: numpy in c:\\users\\rumman fardeen\\anaconda3\\lib\\site-packages (from xgboost) (1.22.4)\n",
      "Installing collected packages: xgboost\n",
      "Successfully installed xgboost-2.0.3\n"
     ]
    }
   ],
   "source": [
    "! pip install xgboost\n",
    " "
   ]
  },
  {
   "cell_type": "code",
   "execution_count": null,
   "metadata": {},
   "outputs": [],
   "source": []
  }
 ],
 "metadata": {
  "kernelspec": {
   "display_name": "Python 3 (ipykernel)",
   "language": "python",
   "name": "python3"
  },
  "language_info": {
   "codemirror_mode": {
    "name": "ipython",
    "version": 3
   },
   "file_extension": ".py",
   "mimetype": "text/x-python",
   "name": "python",
   "nbconvert_exporter": "python",
   "pygments_lexer": "ipython3",
   "version": "3.9.7"
  }
 },
 "nbformat": 4,
 "nbformat_minor": 4
}
