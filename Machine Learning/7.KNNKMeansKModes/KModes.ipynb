{
 "cells": [
  {
   "cell_type": "code",
   "execution_count": 2,
   "id": "65218636",
   "metadata": {},
   "outputs": [],
   "source": [
    "import numpy as np\n",
    "import pandas as pd"
   ]
  },
  {
   "cell_type": "code",
   "execution_count": 18,
   "id": "eee9eec1",
   "metadata": {},
   "outputs": [],
   "source": [
    "df = pd.read_csv('ssm.csv')"
   ]
  },
  {
   "cell_type": "code",
   "execution_count": 19,
   "id": "4b216c9d",
   "metadata": {},
   "outputs": [
    {
     "data": {
      "text/html": [
       "<div>\n",
       "<style scoped>\n",
       "    .dataframe tbody tr th:only-of-type {\n",
       "        vertical-align: middle;\n",
       "    }\n",
       "\n",
       "    .dataframe tbody tr th {\n",
       "        vertical-align: top;\n",
       "    }\n",
       "\n",
       "    .dataframe thead th {\n",
       "        text-align: right;\n",
       "    }\n",
       "</style>\n",
       "<table border=\"1\" class=\"dataframe\">\n",
       "  <thead>\n",
       "    <tr style=\"text-align: right;\">\n",
       "      <th></th>\n",
       "      <th>Year</th>\n",
       "      <th>Month</th>\n",
       "      <th>Day</th>\n",
       "      <th>Time of Tweet</th>\n",
       "      <th>text</th>\n",
       "      <th>sentiment</th>\n",
       "      <th>Platform</th>\n",
       "    </tr>\n",
       "  </thead>\n",
       "  <tbody>\n",
       "    <tr>\n",
       "      <th>0</th>\n",
       "      <td>2018</td>\n",
       "      <td>8</td>\n",
       "      <td>18</td>\n",
       "      <td>morning</td>\n",
       "      <td>What a great day!!! Looks like dream.</td>\n",
       "      <td>positive</td>\n",
       "      <td>Twitter</td>\n",
       "    </tr>\n",
       "    <tr>\n",
       "      <th>1</th>\n",
       "      <td>2018</td>\n",
       "      <td>8</td>\n",
       "      <td>18</td>\n",
       "      <td>noon</td>\n",
       "      <td>I feel sorry, I miss you here in the sea beach</td>\n",
       "      <td>positive</td>\n",
       "      <td>Facebook</td>\n",
       "    </tr>\n",
       "    <tr>\n",
       "      <th>2</th>\n",
       "      <td>2017</td>\n",
       "      <td>8</td>\n",
       "      <td>18</td>\n",
       "      <td>night</td>\n",
       "      <td>Don't angry me</td>\n",
       "      <td>negative</td>\n",
       "      <td>Facebook</td>\n",
       "    </tr>\n",
       "    <tr>\n",
       "      <th>3</th>\n",
       "      <td>2022</td>\n",
       "      <td>6</td>\n",
       "      <td>8</td>\n",
       "      <td>morning</td>\n",
       "      <td>We attend in the class just for listening teac...</td>\n",
       "      <td>negative</td>\n",
       "      <td>Facebook</td>\n",
       "    </tr>\n",
       "    <tr>\n",
       "      <th>4</th>\n",
       "      <td>2022</td>\n",
       "      <td>6</td>\n",
       "      <td>8</td>\n",
       "      <td>noon</td>\n",
       "      <td>Those who want to go, let them go</td>\n",
       "      <td>negative</td>\n",
       "      <td>Instagram</td>\n",
       "    </tr>\n",
       "    <tr>\n",
       "      <th>...</th>\n",
       "      <td>...</td>\n",
       "      <td>...</td>\n",
       "      <td>...</td>\n",
       "      <td>...</td>\n",
       "      <td>...</td>\n",
       "      <td>...</td>\n",
       "      <td>...</td>\n",
       "    </tr>\n",
       "    <tr>\n",
       "      <th>494</th>\n",
       "      <td>2015</td>\n",
       "      <td>10</td>\n",
       "      <td>18</td>\n",
       "      <td>night</td>\n",
       "      <td>According to , a quarter of families under six...</td>\n",
       "      <td>negative</td>\n",
       "      <td>Twitter</td>\n",
       "    </tr>\n",
       "    <tr>\n",
       "      <th>495</th>\n",
       "      <td>2021</td>\n",
       "      <td>2</td>\n",
       "      <td>25</td>\n",
       "      <td>morning</td>\n",
       "      <td>the plan to not spend money is not going well</td>\n",
       "      <td>negative</td>\n",
       "      <td>Instagram</td>\n",
       "    </tr>\n",
       "    <tr>\n",
       "      <th>496</th>\n",
       "      <td>2022</td>\n",
       "      <td>5</td>\n",
       "      <td>30</td>\n",
       "      <td>noon</td>\n",
       "      <td>uploading all my bamboozle pictures of facebook</td>\n",
       "      <td>neutral</td>\n",
       "      <td>Facebook</td>\n",
       "    </tr>\n",
       "    <tr>\n",
       "      <th>497</th>\n",
       "      <td>2018</td>\n",
       "      <td>8</td>\n",
       "      <td>10</td>\n",
       "      <td>night</td>\n",
       "      <td>congratulations ! you guys finish a month ear...</td>\n",
       "      <td>positive</td>\n",
       "      <td>Twitter</td>\n",
       "    </tr>\n",
       "    <tr>\n",
       "      <th>498</th>\n",
       "      <td>2019</td>\n",
       "      <td>3</td>\n",
       "      <td>25</td>\n",
       "      <td>morning</td>\n",
       "      <td>actually, I wish I was back in Tahoe.  I miss...</td>\n",
       "      <td>negative</td>\n",
       "      <td>Instagram</td>\n",
       "    </tr>\n",
       "  </tbody>\n",
       "</table>\n",
       "<p>499 rows × 7 columns</p>\n",
       "</div>"
      ],
      "text/plain": [
       "     Year  Month  Day Time of Tweet  \\\n",
       "0    2018      8   18       morning   \n",
       "1    2018      8   18          noon   \n",
       "2    2017      8   18         night   \n",
       "3    2022      6    8       morning   \n",
       "4    2022      6    8          noon   \n",
       "..    ...    ...  ...           ...   \n",
       "494  2015     10   18         night   \n",
       "495  2021      2   25       morning   \n",
       "496  2022      5   30          noon   \n",
       "497  2018      8   10         night   \n",
       "498  2019      3   25       morning   \n",
       "\n",
       "                                                  text sentiment     Platform  \n",
       "0                What a great day!!! Looks like dream.  positive    Twitter    \n",
       "1       I feel sorry, I miss you here in the sea beach  positive    Facebook   \n",
       "2                                       Don't angry me  negative     Facebook  \n",
       "3    We attend in the class just for listening teac...  negative    Facebook   \n",
       "4                    Those who want to go, let them go  negative   Instagram   \n",
       "..                                                 ...       ...          ...  \n",
       "494  According to , a quarter of families under six...  negative     Twitter   \n",
       "495      the plan to not spend money is not going well  negative   Instagram   \n",
       "496    uploading all my bamboozle pictures of facebook   neutral    Facebook   \n",
       "497   congratulations ! you guys finish a month ear...  positive     Twitter   \n",
       "498   actually, I wish I was back in Tahoe.  I miss...  negative   Instagram   \n",
       "\n",
       "[499 rows x 7 columns]"
      ]
     },
     "execution_count": 19,
     "metadata": {},
     "output_type": "execute_result"
    }
   ],
   "source": [
    "df"
   ]
  },
  {
   "cell_type": "code",
   "execution_count": null,
   "id": "6edd18a8",
   "metadata": {},
   "outputs": [],
   "source": [
    "df = df.drop(['Year', 'Month','Day','text'], axis=1)"
   ]
  },
  {
   "cell_type": "code",
   "execution_count": 24,
   "id": "1c3d46bf",
   "metadata": {},
   "outputs": [
    {
     "data": {
      "text/html": [
       "<div>\n",
       "<style scoped>\n",
       "    .dataframe tbody tr th:only-of-type {\n",
       "        vertical-align: middle;\n",
       "    }\n",
       "\n",
       "    .dataframe tbody tr th {\n",
       "        vertical-align: top;\n",
       "    }\n",
       "\n",
       "    .dataframe thead th {\n",
       "        text-align: right;\n",
       "    }\n",
       "</style>\n",
       "<table border=\"1\" class=\"dataframe\">\n",
       "  <thead>\n",
       "    <tr style=\"text-align: right;\">\n",
       "      <th></th>\n",
       "      <th>Time of Tweet</th>\n",
       "      <th>sentiment</th>\n",
       "      <th>Platform</th>\n",
       "    </tr>\n",
       "  </thead>\n",
       "  <tbody>\n",
       "    <tr>\n",
       "      <th>0</th>\n",
       "      <td>morning</td>\n",
       "      <td>positive</td>\n",
       "      <td>Twitter</td>\n",
       "    </tr>\n",
       "    <tr>\n",
       "      <th>1</th>\n",
       "      <td>noon</td>\n",
       "      <td>positive</td>\n",
       "      <td>Facebook</td>\n",
       "    </tr>\n",
       "    <tr>\n",
       "      <th>2</th>\n",
       "      <td>night</td>\n",
       "      <td>negative</td>\n",
       "      <td>Facebook</td>\n",
       "    </tr>\n",
       "    <tr>\n",
       "      <th>3</th>\n",
       "      <td>morning</td>\n",
       "      <td>negative</td>\n",
       "      <td>Facebook</td>\n",
       "    </tr>\n",
       "    <tr>\n",
       "      <th>4</th>\n",
       "      <td>noon</td>\n",
       "      <td>negative</td>\n",
       "      <td>Instagram</td>\n",
       "    </tr>\n",
       "    <tr>\n",
       "      <th>...</th>\n",
       "      <td>...</td>\n",
       "      <td>...</td>\n",
       "      <td>...</td>\n",
       "    </tr>\n",
       "    <tr>\n",
       "      <th>494</th>\n",
       "      <td>night</td>\n",
       "      <td>negative</td>\n",
       "      <td>Twitter</td>\n",
       "    </tr>\n",
       "    <tr>\n",
       "      <th>495</th>\n",
       "      <td>morning</td>\n",
       "      <td>negative</td>\n",
       "      <td>Instagram</td>\n",
       "    </tr>\n",
       "    <tr>\n",
       "      <th>496</th>\n",
       "      <td>noon</td>\n",
       "      <td>neutral</td>\n",
       "      <td>Facebook</td>\n",
       "    </tr>\n",
       "    <tr>\n",
       "      <th>497</th>\n",
       "      <td>night</td>\n",
       "      <td>positive</td>\n",
       "      <td>Twitter</td>\n",
       "    </tr>\n",
       "    <tr>\n",
       "      <th>498</th>\n",
       "      <td>morning</td>\n",
       "      <td>negative</td>\n",
       "      <td>Instagram</td>\n",
       "    </tr>\n",
       "  </tbody>\n",
       "</table>\n",
       "<p>499 rows × 3 columns</p>\n",
       "</div>"
      ],
      "text/plain": [
       "    Time of Tweet sentiment     Platform\n",
       "0         morning  positive    Twitter  \n",
       "1            noon  positive    Facebook \n",
       "2           night  negative     Facebook\n",
       "3         morning  negative    Facebook \n",
       "4            noon  negative   Instagram \n",
       "..            ...       ...          ...\n",
       "494         night  negative     Twitter \n",
       "495       morning  negative   Instagram \n",
       "496          noon   neutral    Facebook \n",
       "497         night  positive     Twitter \n",
       "498       morning  negative   Instagram \n",
       "\n",
       "[499 rows x 3 columns]"
      ]
     },
     "execution_count": 24,
     "metadata": {},
     "output_type": "execute_result"
    }
   ],
   "source": [
    "df"
   ]
  },
  {
   "cell_type": "code",
   "execution_count": 25,
   "id": "ebb54be9",
   "metadata": {},
   "outputs": [
    {
     "data": {
      "text/plain": [
       "Time of Tweet    0\n",
       "sentiment        0\n",
       "Platform         0\n",
       "dtype: int64"
      ]
     },
     "execution_count": 25,
     "metadata": {},
     "output_type": "execute_result"
    }
   ],
   "source": [
    "df.isna().sum()"
   ]
  },
  {
   "cell_type": "code",
   "execution_count": 26,
   "id": "4c08df8f",
   "metadata": {},
   "outputs": [],
   "source": [
    "# Rand Index\n",
    "from sklearn.metrics.cluster import adjusted_rand_score\n",
    "from sklearn.metrics.cluster import rand_score\n",
    "\n",
    "# Encode labels\n",
    "from sklearn import preprocessing\n",
    "\n",
    "# Confusion Matrix\n",
    "from sklearn.metrics import confusion_matrix"
   ]
  },
  {
   "cell_type": "code",
   "execution_count": 28,
   "id": "571e3ec6",
   "metadata": {},
   "outputs": [
    {
     "data": {
      "text/html": [
       "<div>\n",
       "<style scoped>\n",
       "    .dataframe tbody tr th:only-of-type {\n",
       "        vertical-align: middle;\n",
       "    }\n",
       "\n",
       "    .dataframe tbody tr th {\n",
       "        vertical-align: top;\n",
       "    }\n",
       "\n",
       "    .dataframe thead th {\n",
       "        text-align: right;\n",
       "    }\n",
       "</style>\n",
       "<table border=\"1\" class=\"dataframe\">\n",
       "  <thead>\n",
       "    <tr style=\"text-align: right;\">\n",
       "      <th></th>\n",
       "      <th>Time of Tweet</th>\n",
       "      <th>sentiment</th>\n",
       "      <th>Platform</th>\n",
       "    </tr>\n",
       "  </thead>\n",
       "  <tbody>\n",
       "    <tr>\n",
       "      <th>0</th>\n",
       "      <td>0</td>\n",
       "      <td>2</td>\n",
       "      <td>3</td>\n",
       "    </tr>\n",
       "    <tr>\n",
       "      <th>1</th>\n",
       "      <td>2</td>\n",
       "      <td>2</td>\n",
       "      <td>0</td>\n",
       "    </tr>\n",
       "    <tr>\n",
       "      <th>2</th>\n",
       "      <td>1</td>\n",
       "      <td>0</td>\n",
       "      <td>4</td>\n",
       "    </tr>\n",
       "    <tr>\n",
       "      <th>3</th>\n",
       "      <td>0</td>\n",
       "      <td>0</td>\n",
       "      <td>0</td>\n",
       "    </tr>\n",
       "    <tr>\n",
       "      <th>4</th>\n",
       "      <td>2</td>\n",
       "      <td>0</td>\n",
       "      <td>1</td>\n",
       "    </tr>\n",
       "  </tbody>\n",
       "</table>\n",
       "</div>"
      ],
      "text/plain": [
       "   Time of Tweet  sentiment  Platform\n",
       "0              0          2         3\n",
       "1              2          2         0\n",
       "2              1          0         4\n",
       "3              0          0         0\n",
       "4              2          0         1"
      ]
     },
     "execution_count": 28,
     "metadata": {},
     "output_type": "execute_result"
    }
   ],
   "source": [
    "encoder = preprocessing.LabelEncoder()\n",
    "encoded_data = df.apply(encoder.fit_transform)\n",
    "encoded_data.head()"
   ]
  },
  {
   "cell_type": "code",
   "execution_count": 41,
   "id": "b429fc1c",
   "metadata": {},
   "outputs": [
    {
     "name": "stdout",
     "output_type": "stream",
     "text": [
      "Initialization method and algorithm are deterministic. Setting n_init to 1.\n",
      "Init: initializing centroids\n",
      "Init: initializing clusters\n",
      "Starting iterations...\n",
      "Run 1, iteration: 1/100, moves: 0, cost: 723.0\n"
     ]
    }
   ],
   "source": [
    "from kmodes.kmodes import KModes\n",
    "\n",
    "km = KModes(n_clusters=2, init='Cao', verbose=1)\n",
    "\n",
    "clusters = km.fit_predict(encoded_data)\n",
    "\n",
    "df['cluster'] = clusters\n",
    "\n",
    "predicted_labels = pd.DataFrame(clusters, columns=['predicted-label'])"
   ]
  },
  {
   "cell_type": "code",
   "execution_count": 34,
   "id": "283e8370",
   "metadata": {},
   "outputs": [
    {
     "name": "stdout",
     "output_type": "stream",
     "text": [
      "Collecting kmodes\n",
      "  Downloading kmodes-0.12.2-py2.py3-none-any.whl (20 kB)\n",
      "Requirement already satisfied: scikit-learn>=0.22.0 in c:\\users\\rumman fardeen\\anaconda3\\lib\\site-packages (from kmodes) (1.4.2)\n",
      "Requirement already satisfied: scipy>=0.13.3 in c:\\users\\rumman fardeen\\anaconda3\\lib\\site-packages (from kmodes) (1.7.1)\n",
      "Requirement already satisfied: numpy>=1.10.4 in c:\\users\\rumman fardeen\\anaconda3\\lib\\site-packages (from kmodes) (1.22.4)\n",
      "Requirement already satisfied: joblib>=0.11 in c:\\users\\rumman fardeen\\anaconda3\\lib\\site-packages (from kmodes) (1.4.0)\n",
      "Requirement already satisfied: threadpoolctl>=2.0.0 in c:\\users\\rumman fardeen\\anaconda3\\lib\\site-packages (from scikit-learn>=0.22.0->kmodes) (2.2.0)\n",
      "Installing collected packages: kmodes\n",
      "Successfully installed kmodes-0.12.2\n"
     ]
    }
   ],
   "source": [
    "# !pip install kmodes"
   ]
  },
  {
   "cell_type": "code",
   "execution_count": null,
   "id": "3aed1ca3",
   "metadata": {},
   "outputs": [],
   "source": []
  },
  {
   "cell_type": "code",
   "execution_count": 42,
   "id": "aedee7b1",
   "metadata": {},
   "outputs": [
    {
     "data": {
      "image/png": "[encoded data removed]",
      "text/plain": [
       "<Figure size 720x432 with 1 Axes>"
      ]
     },
     "metadata": {
      "needs_background": "light"
     },
     "output_type": "display_data"
    },
    {
     "data": {
      "image/png": "[encoded data removed]",
      "text/plain": [
       "<Figure size 720x432 with 1 Axes>"
      ]
     },
     "metadata": {
      "needs_background": "light"
     },
     "output_type": "display_data"
    },
    {
     "data": {
      "image/png": "[encoded data removed]",
      "text/plain": [
       "<Figure size 720x432 with 1 Axes>"
      ]
     },
     "metadata": {
      "needs_background": "light"
     },
     "output_type": "display_data"
    }
   ],
   "source": [
    "import seaborn as sns\n",
    "import matplotlib.pyplot as plt\n",
    "\n",
    "# Assuming you have your DataFrame named 'df' with a 'cluster' column containing cluster labels\n",
    "# Replace 'cat_cols' with the list of column names containing categorical data\n",
    "cat_cols = ['Time of Tweet', 'sentiment', 'Platform']\n",
    "# Iterate over each categorical column and create a countplot for each\n",
    "for col in cat_cols:\n",
    "    plt.figure(figsize=(10, 6))\n",
    "    sns.countplot(data=df, x=col, hue='cluster')\n",
    "    plt.title(f'Countplot of {col} by Cluster')\n",
    "    plt.xlabel(col)\n",
    "    plt.ylabel('Count')\n",
    "    plt.legend(title='Cluster')\n",
    "    plt.show()\n"
   ]
  },
  {
   "cell_type": "code",
   "execution_count": 43,
   "id": "2132d130",
   "metadata": {},
   "outputs": [
    {
     "data": {
      "text/plain": [
       "<Figure size 864x432 with 0 Axes>"
      ]
     },
     "metadata": {},
     "output_type": "display_data"
    },
    {
     "data": {
      "image/png": "[encoded data removed]",
      "text/plain": [
       "<Figure size 432x288 with 1 Axes>"
      ]
     },
     "metadata": {
      "needs_background": "light"
     },
     "output_type": "display_data"
    }
   ],
   "source": [
    "# Assuming you have your KModes model named 'km' and DataFrame named 'df'\n",
    "# Replace 'cat_cols' with the list of column names containing categorical data\n",
    "\n",
    "# Get the cluster centroids\n",
    "centroids = km.cluster_centroids_\n",
    "\n",
    "# Create a DataFrame for the centroids with column names\n",
    "centroid_df = pd.DataFrame(centroids, columns=cat_cols)\n",
    "\n",
    "# Plot the cluster centroids as bar plots\n",
    "plt.figure(figsize=(12, 6))\n",
    "centroid_df.plot(kind='bar')\n",
    "plt.title('Cluster Profiles')\n",
    "plt.xlabel('Cluster')\n",
    "plt.ylabel('Frequency')\n",
    "plt.xticks(rotation=0)\n",
    "plt.legend(title='Feature')\n",
    "plt.show()\n"
   ]
  },
  {
   "cell_type": "code",
   "execution_count": 47,
   "id": "b05dc5a0",
   "metadata": {},
   "outputs": [
    {
     "data": {
      "text/html": [
       "<div>\n",
       "<style scoped>\n",
       "    .dataframe tbody tr th:only-of-type {\n",
       "        vertical-align: middle;\n",
       "    }\n",
       "\n",
       "    .dataframe tbody tr th {\n",
       "        vertical-align: top;\n",
       "    }\n",
       "\n",
       "    .dataframe thead th {\n",
       "        text-align: right;\n",
       "    }\n",
       "</style>\n",
       "<table border=\"1\" class=\"dataframe\">\n",
       "  <thead>\n",
       "    <tr style=\"text-align: right;\">\n",
       "      <th></th>\n",
       "      <th>Time of Tweet</th>\n",
       "      <th>sentiment</th>\n",
       "      <th>Platform</th>\n",
       "      <th>cluster</th>\n",
       "    </tr>\n",
       "  </thead>\n",
       "  <tbody>\n",
       "    <tr>\n",
       "      <th>0</th>\n",
       "      <td>morning</td>\n",
       "      <td>positive</td>\n",
       "      <td>Twitter</td>\n",
       "      <td>0</td>\n",
       "    </tr>\n",
       "    <tr>\n",
       "      <th>1</th>\n",
       "      <td>noon</td>\n",
       "      <td>positive</td>\n",
       "      <td>Facebook</td>\n",
       "      <td>1</td>\n",
       "    </tr>\n",
       "    <tr>\n",
       "      <th>2</th>\n",
       "      <td>night</td>\n",
       "      <td>negative</td>\n",
       "      <td>Facebook</td>\n",
       "      <td>0</td>\n",
       "    </tr>\n",
       "    <tr>\n",
       "      <th>3</th>\n",
       "      <td>morning</td>\n",
       "      <td>negative</td>\n",
       "      <td>Facebook</td>\n",
       "      <td>0</td>\n",
       "    </tr>\n",
       "    <tr>\n",
       "      <th>4</th>\n",
       "      <td>noon</td>\n",
       "      <td>negative</td>\n",
       "      <td>Instagram</td>\n",
       "      <td>0</td>\n",
       "    </tr>\n",
       "    <tr>\n",
       "      <th>...</th>\n",
       "      <td>...</td>\n",
       "      <td>...</td>\n",
       "      <td>...</td>\n",
       "      <td>...</td>\n",
       "    </tr>\n",
       "    <tr>\n",
       "      <th>494</th>\n",
       "      <td>night</td>\n",
       "      <td>negative</td>\n",
       "      <td>Twitter</td>\n",
       "      <td>0</td>\n",
       "    </tr>\n",
       "    <tr>\n",
       "      <th>495</th>\n",
       "      <td>morning</td>\n",
       "      <td>negative</td>\n",
       "      <td>Instagram</td>\n",
       "      <td>0</td>\n",
       "    </tr>\n",
       "    <tr>\n",
       "      <th>496</th>\n",
       "      <td>noon</td>\n",
       "      <td>neutral</td>\n",
       "      <td>Facebook</td>\n",
       "      <td>1</td>\n",
       "    </tr>\n",
       "    <tr>\n",
       "      <th>497</th>\n",
       "      <td>night</td>\n",
       "      <td>positive</td>\n",
       "      <td>Twitter</td>\n",
       "      <td>1</td>\n",
       "    </tr>\n",
       "    <tr>\n",
       "      <th>498</th>\n",
       "      <td>morning</td>\n",
       "      <td>negative</td>\n",
       "      <td>Instagram</td>\n",
       "      <td>0</td>\n",
       "    </tr>\n",
       "  </tbody>\n",
       "</table>\n",
       "<p>499 rows × 4 columns</p>\n",
       "</div>"
      ],
      "text/plain": [
       "    Time of Tweet sentiment     Platform  cluster\n",
       "0         morning  positive    Twitter          0\n",
       "1            noon  positive    Facebook         1\n",
       "2           night  negative     Facebook        0\n",
       "3         morning  negative    Facebook         0\n",
       "4            noon  negative   Instagram         0\n",
       "..            ...       ...          ...      ...\n",
       "494         night  negative     Twitter         0\n",
       "495       morning  negative   Instagram         0\n",
       "496          noon   neutral    Facebook         1\n",
       "497         night  positive     Twitter         1\n",
       "498       morning  negative   Instagram         0\n",
       "\n",
       "[499 rows x 4 columns]"
      ]
     },
     "execution_count": 47,
     "metadata": {},
     "output_type": "execute_result"
    }
   ],
   "source": [
    "df"
   ]
  },
  {
   "cell_type": "code",
   "execution_count": 51,
   "id": "d1637ccb",
   "metadata": {},
   "outputs": [
    {
     "data": {
      "image/png": "[encoded data removed]",
      "text/plain": [
       "<Figure size 720x432 with 1 Axes>"
      ]
     },
     "metadata": {},
     "output_type": "display_data"
    }
   ],
   "source": [
    "import pandas as pd\n",
    "import matplotlib.pyplot as plt\n",
    "import seaborn as sns\n",
    "\n",
    "# Assuming you have your DataFrame named 'df' with a 'cluster' column containing cluster labels\n",
    "# Replace 'cat_cols' with the list of column names containing categorical data\n",
    "# Replace 'km' with the trained K-modes model\n",
    "\n",
    "cat_cols = ['Time of Tweet', 'sentiment', 'Platform']\n",
    "# Get cluster centroids\n",
    "cluster_centroids_df = pd.DataFrame(km.cluster_centroids_, columns=df[cat_cols].columns)\n",
    "\n",
    "# Set up scatter plot\n",
    "plt.figure(figsize=(10, 6))\n",
    "sns.scatterplot(data=df, x='Time of Tweet', y='sentiment', hue='cluster', palette='tab10')\n",
    "\n",
    "# Plot cluster centroids\n",
    "for i, centroid in cluster_centroids_df.iterrows():\n",
    "    plt.scatter(centroid['Time of Tweet'], centroid['sentiment'], marker='x', s=100, color='black')\n",
    "\n",
    "plt.title('Scatter Plot of Time of Tweet vs Sentiment')\n",
    "plt.xlabel('Time of Tweet')\n",
    "plt.ylabel('Sentiment')\n",
    "plt.legend(title='Cluster')\n",
    "plt.grid(True)\n",
    "plt.show()\n"
   ]
  },
  {
   "cell_type": "code",
   "execution_count": 49,
   "id": "b266aaea",
   "metadata": {},
   "outputs": [
    {
     "data": {
      "text/plain": [
       "Index(['Time of Tweet', 'sentiment', 'Platform', 'cluster'], dtype='object')"
      ]
     },
     "execution_count": 49,
     "metadata": {},
     "output_type": "execute_result"
    }
   ],
   "source": [
    "df.columns\n"
   ]
  },
  {
   "cell_type": "code",
   "execution_count": 54,
   "id": "b596aff8",
   "metadata": {},
   "outputs": [
    {
     "data": {
      "image/png": "[encoded data removed]",
      "text/plain": [
       "<Figure size 720x432 with 1 Axes>"
      ]
     },
     "metadata": {},
     "output_type": "display_data"
    }
   ],
   "source": [
    "import matplotlib.pyplot as plt\n",
    "import seaborn as sns\n",
    "\n",
    "# Assuming you have your DataFrame named 'df' with a 'cluster' column containing cluster labels\n",
    "# Assuming you have already trained the K-modes model and obtained the cluster centroids\n",
    "\n",
    "# Set up scatter plot\n",
    "plt.figure(figsize=(10, 6))\n",
    "sns.scatterplot(data=df, x='Time of Tweet', y='sentiment', hue='cluster', palette='tab10')\n",
    "\n",
    "# Plot cluster centroids\n",
    "for i, centroid in enumerate(km.cluster_centroids_):\n",
    "    plt.scatter(centroid[0], centroid[1], marker='x', s=100, color='black', label=f'Centroid {i+1}')\n",
    "\n",
    "plt.title('Scatter Plot of Time of Tweet vs Sentiment')\n",
    "plt.xlabel('Time of Tweet')\n",
    "plt.ylabel('Sentiment')\n",
    "plt.legend(title='Cluster')\n",
    "plt.grid(True)\n",
    "plt.show()\n"
   ]
  },
  {
   "cell_type": "code",
   "execution_count": null,
   "id": "ac60b856",
   "metadata": {},
   "outputs": [],
   "source": []
  }
 ],
 "metadata": {
  "kernelspec": {
   "display_name": "Python 3 (ipykernel)",
   "language": "python",
   "name": "python3"
  },
  "language_info": {
   "codemirror_mode": {
    "name": "ipython",
    "version": 3
   },
   "file_extension": ".py",
   "mimetype": "text/x-python",
   "name": "python",
   "nbconvert_exporter": "python",
   "pygments_lexer": "ipython3",
   "version": "3.9.7"
  }
 },
 "nbformat": 4,
 "nbformat_minor": 5
}
