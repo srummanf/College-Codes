{
 "cells": [
  {
   "cell_type": "markdown",
   "id": "f8b4f969",
   "metadata": {},
   "source": [
    "# MULTIPLE LINEAR PROGRAMMING\n",
    "# Shaikh Rumman Fardeen 21BCE1736"
   ]
  },
  {
   "cell_type": "markdown",
   "id": "7d68ef4a",
   "metadata": {},
   "source": [
    "### In this lab assignment we will be explproring Multiple Linear Regression by finding Price of a Car based on its Age and total distance in KM it has driven"
   ]
  },
  {
   "cell_type": "code",
   "execution_count": 1,
   "id": "20bcfb26",
   "metadata": {},
   "outputs": [],
   "source": [
    "# This Python 3 environment comes with many helpful analytics libraries installed\n",
    "# It is defined by the kaggle/python Docker image: https://github.com/kaggle/docker-python\n",
    "# For example, here's several helpful packages to load\n",
    "\n",
    "import numpy as np # linear algebra\n",
    "import pandas as pd # data processing, CSV file I/O (e.g. pd.read_csv)\n",
    "\n",
    "# Input data files are available in the read-only \"../input/\" directory\n",
    "# For example, running this (by clicking run or pressing Shift+Enter) will list all files under the input directory\n",
    "\n",
    "import os\n",
    "for dirname, _, filenames in os.walk('/kaggle/input'):\n",
    "    for filename in filenames:\n",
    "        print(os.path.join(dirname, filename))\n",
    "\n",
    "# You can write up to 20GB to the current directory (/kaggle/working/) that gets preserved as output when you create a version using \"Save & Run All\" \n",
    "# You can also write temporary files to /kaggle/temp/, but they won't be saved outside of the current session"
   ]
  },
  {
   "cell_type": "code",
   "execution_count": 2,
   "id": "4b4c1957",
   "metadata": {},
   "outputs": [],
   "source": [
    "#Importing the libraries\n",
    "import pandas as pd\n",
    "import numpy as np\n",
    "import matplotlib.pyplot as plt\n",
    "import seaborn as sns\n",
    "\n",
    "# import warnings\n",
    "import warnings\n",
    "warnings.filterwarnings(\"ignore\")\n",
    "\n",
    "# We will use some methods from the sklearn module\n",
    "from sklearn import linear_model\n",
    "from sklearn.linear_model import LinearRegression\n",
    "from sklearn import metrics\n",
    "from sklearn.metrics import mean_squared_error, mean_absolute_error\n",
    "from sklearn.model_selection import train_test_split, cross_val_score"
   ]
  },
  {
   "cell_type": "code",
   "execution_count": 3,
   "id": "9cc281e2",
   "metadata": {},
   "outputs": [],
   "source": [
    "# Reading the Dataset\n",
    "cars = pd.read_csv(\"cars.csv\")"
   ]
  },
  {
   "cell_type": "code",
   "execution_count": 4,
   "id": "1b098b7d",
   "metadata": {},
   "outputs": [
    {
     "data": {
      "text/html": [
       "<div>\n",
       "<style scoped>\n",
       "    .dataframe tbody tr th:only-of-type {\n",
       "        vertical-align: middle;\n",
       "    }\n",
       "\n",
       "    .dataframe tbody tr th {\n",
       "        vertical-align: top;\n",
       "    }\n",
       "\n",
       "    .dataframe thead th {\n",
       "        text-align: right;\n",
       "    }\n",
       "</style>\n",
       "<table border=\"1\" class=\"dataframe\">\n",
       "  <thead>\n",
       "    <tr style=\"text-align: right;\">\n",
       "      <th></th>\n",
       "      <th>Unnamed: 0</th>\n",
       "      <th>Price</th>\n",
       "      <th>Age</th>\n",
       "      <th>KM</th>\n",
       "      <th>FuelType</th>\n",
       "      <th>HP</th>\n",
       "      <th>MetColor</th>\n",
       "      <th>Automatic</th>\n",
       "      <th>CC</th>\n",
       "      <th>Doors</th>\n",
       "      <th>Weight</th>\n",
       "    </tr>\n",
       "  </thead>\n",
       "  <tbody>\n",
       "    <tr>\n",
       "      <th>0</th>\n",
       "      <td>0</td>\n",
       "      <td>13500</td>\n",
       "      <td>23.0</td>\n",
       "      <td>46986</td>\n",
       "      <td>Diesel</td>\n",
       "      <td>90</td>\n",
       "      <td>1.0</td>\n",
       "      <td>0</td>\n",
       "      <td>2000</td>\n",
       "      <td>three</td>\n",
       "      <td>1165</td>\n",
       "    </tr>\n",
       "    <tr>\n",
       "      <th>1</th>\n",
       "      <td>1</td>\n",
       "      <td>13750</td>\n",
       "      <td>23.0</td>\n",
       "      <td>72937</td>\n",
       "      <td>Diesel</td>\n",
       "      <td>90</td>\n",
       "      <td>1.0</td>\n",
       "      <td>0</td>\n",
       "      <td>2000</td>\n",
       "      <td>3</td>\n",
       "      <td>1165</td>\n",
       "    </tr>\n",
       "    <tr>\n",
       "      <th>2</th>\n",
       "      <td>2</td>\n",
       "      <td>13950</td>\n",
       "      <td>24.0</td>\n",
       "      <td>41711</td>\n",
       "      <td>Diesel</td>\n",
       "      <td>90</td>\n",
       "      <td>NaN</td>\n",
       "      <td>0</td>\n",
       "      <td>2000</td>\n",
       "      <td>3</td>\n",
       "      <td>1165</td>\n",
       "    </tr>\n",
       "    <tr>\n",
       "      <th>3</th>\n",
       "      <td>3</td>\n",
       "      <td>14950</td>\n",
       "      <td>26.0</td>\n",
       "      <td>48000</td>\n",
       "      <td>Diesel</td>\n",
       "      <td>90</td>\n",
       "      <td>0.0</td>\n",
       "      <td>0</td>\n",
       "      <td>2000</td>\n",
       "      <td>3</td>\n",
       "      <td>1165</td>\n",
       "    </tr>\n",
       "    <tr>\n",
       "      <th>4</th>\n",
       "      <td>4</td>\n",
       "      <td>13750</td>\n",
       "      <td>30.0</td>\n",
       "      <td>38500</td>\n",
       "      <td>Diesel</td>\n",
       "      <td>90</td>\n",
       "      <td>0.0</td>\n",
       "      <td>0</td>\n",
       "      <td>2000</td>\n",
       "      <td>3</td>\n",
       "      <td>1170</td>\n",
       "    </tr>\n",
       "  </tbody>\n",
       "</table>\n",
       "</div>"
      ],
      "text/plain": [
       "   Unnamed: 0  Price   Age     KM FuelType  HP  MetColor  Automatic    CC  \\\n",
       "0           0  13500  23.0  46986   Diesel  90       1.0          0  2000   \n",
       "1           1  13750  23.0  72937   Diesel  90       1.0          0  2000   \n",
       "2           2  13950  24.0  41711   Diesel  90       NaN          0  2000   \n",
       "3           3  14950  26.0  48000   Diesel  90       0.0          0  2000   \n",
       "4           4  13750  30.0  38500   Diesel  90       0.0          0  2000   \n",
       "\n",
       "   Doors  Weight  \n",
       "0  three    1165  \n",
       "1      3    1165  \n",
       "2      3    1165  \n",
       "3      3    1165  \n",
       "4      3    1170  "
      ]
     },
     "execution_count": 4,
     "metadata": {},
     "output_type": "execute_result"
    }
   ],
   "source": [
    "cars.head()"
   ]
  },
  {
   "cell_type": "code",
   "execution_count": 5,
   "id": "c833fd51",
   "metadata": {},
   "outputs": [
    {
     "data": {
      "text/plain": [
       "(1436, 11)"
      ]
     },
     "execution_count": 5,
     "metadata": {},
     "output_type": "execute_result"
    }
   ],
   "source": [
    "cars.shape"
   ]
  },
  {
   "cell_type": "code",
   "execution_count": 6,
   "id": "05bf901b",
   "metadata": {},
   "outputs": [
    {
     "name": "stdout",
     "output_type": "stream",
     "text": [
      "            Unnamed: 0     Price       Age  MetColor  Automatic        CC  \\\n",
      "Unnamed: 0    1.000000 -0.738289  0.907090 -0.078616   0.066299 -0.184490   \n",
      "Price        -0.738289  1.000000 -0.878407  0.112041   0.033081  0.165067   \n",
      "Age           0.907090 -0.878407  1.000000 -0.099659   0.032573 -0.120706   \n",
      "MetColor     -0.078616  0.112041 -0.099659  1.000000  -0.013973  0.029189   \n",
      "Automatic     0.066299  0.033081  0.032573 -0.013973   1.000000 -0.069321   \n",
      "CC           -0.184490  0.165067 -0.120706  0.029189  -0.069321  1.000000   \n",
      "Weight       -0.414577  0.581198 -0.464299  0.057142   0.057249  0.651450   \n",
      "\n",
      "              Weight  \n",
      "Unnamed: 0 -0.414577  \n",
      "Price       0.581198  \n",
      "Age        -0.464299  \n",
      "MetColor    0.057142  \n",
      "Automatic   0.057249  \n",
      "CC          0.651450  \n",
      "Weight      1.000000  \n"
     ]
    }
   ],
   "source": [
    "print(cars.corr())"
   ]
  },
  {
   "cell_type": "code",
   "execution_count": 7,
   "id": "00fbe70d",
   "metadata": {},
   "outputs": [
    {
     "name": "stdout",
     "output_type": "stream",
     "text": [
      "        Unnamed: 0         Price          Age     MetColor    Automatic  \\\n",
      "count  1436.000000   1436.000000  1336.000000  1286.000000  1436.000000   \n",
      "mean    717.500000  10730.824513    55.672156     0.674961     0.055710   \n",
      "std     414.681806   3626.964585    18.589804     0.468572     0.229441   \n",
      "min       0.000000   4350.000000     1.000000     0.000000     0.000000   \n",
      "25%     358.750000   8450.000000    43.000000     0.000000     0.000000   \n",
      "50%     717.500000   9900.000000    60.000000     1.000000     0.000000   \n",
      "75%    1076.250000  11950.000000    70.000000     1.000000     0.000000   \n",
      "max    1435.000000  32500.000000    80.000000     1.000000     1.000000   \n",
      "\n",
      "                CC      Weight  \n",
      "count  1436.000000  1436.00000  \n",
      "mean   1566.827994  1072.45961  \n",
      "std     187.182436    52.64112  \n",
      "min    1300.000000  1000.00000  \n",
      "25%    1400.000000  1040.00000  \n",
      "50%    1600.000000  1070.00000  \n",
      "75%    1600.000000  1085.00000  \n",
      "max    2000.000000  1615.00000  \n"
     ]
    }
   ],
   "source": [
    "print(cars.describe())"
   ]
  },
  {
   "cell_type": "code",
   "execution_count": 8,
   "id": "27037bf1",
   "metadata": {},
   "outputs": [],
   "source": [
    "median_age = cars['Age'].median()\n",
    "cars['Age'].fillna(median_age, inplace=True)"
   ]
  },
  {
   "cell_type": "code",
   "execution_count": 9,
   "id": "61e39a26",
   "metadata": {},
   "outputs": [],
   "source": [
    "cars['KM'] = pd.to_numeric(cars['KM'], errors='coerce')\n",
    "median_km = cars['KM'].median()\n",
    "cars['KM'].fillna(median_age, inplace=True)"
   ]
  },
  {
   "cell_type": "code",
   "execution_count": 13,
   "id": "ad06efaa",
   "metadata": {},
   "outputs": [
    {
     "data": {
      "text/html": [
       "<div>\n",
       "<style scoped>\n",
       "    .dataframe tbody tr th:only-of-type {\n",
       "        vertical-align: middle;\n",
       "    }\n",
       "\n",
       "    .dataframe tbody tr th {\n",
       "        vertical-align: top;\n",
       "    }\n",
       "\n",
       "    .dataframe thead th {\n",
       "        text-align: right;\n",
       "    }\n",
       "</style>\n",
       "<table border=\"1\" class=\"dataframe\">\n",
       "  <thead>\n",
       "    <tr style=\"text-align: right;\">\n",
       "      <th></th>\n",
       "      <th>Age</th>\n",
       "      <th>KM</th>\n",
       "    </tr>\n",
       "  </thead>\n",
       "  <tbody>\n",
       "    <tr>\n",
       "      <th>0</th>\n",
       "      <td>23.0</td>\n",
       "      <td>46986.0</td>\n",
       "    </tr>\n",
       "    <tr>\n",
       "      <th>1</th>\n",
       "      <td>23.0</td>\n",
       "      <td>72937.0</td>\n",
       "    </tr>\n",
       "    <tr>\n",
       "      <th>2</th>\n",
       "      <td>24.0</td>\n",
       "      <td>41711.0</td>\n",
       "    </tr>\n",
       "    <tr>\n",
       "      <th>3</th>\n",
       "      <td>26.0</td>\n",
       "      <td>48000.0</td>\n",
       "    </tr>\n",
       "    <tr>\n",
       "      <th>4</th>\n",
       "      <td>30.0</td>\n",
       "      <td>38500.0</td>\n",
       "    </tr>\n",
       "    <tr>\n",
       "      <th>...</th>\n",
       "      <td>...</td>\n",
       "      <td>...</td>\n",
       "    </tr>\n",
       "    <tr>\n",
       "      <th>1431</th>\n",
       "      <td>60.0</td>\n",
       "      <td>20544.0</td>\n",
       "    </tr>\n",
       "    <tr>\n",
       "      <th>1432</th>\n",
       "      <td>72.0</td>\n",
       "      <td>60.0</td>\n",
       "    </tr>\n",
       "    <tr>\n",
       "      <th>1433</th>\n",
       "      <td>60.0</td>\n",
       "      <td>17016.0</td>\n",
       "    </tr>\n",
       "    <tr>\n",
       "      <th>1434</th>\n",
       "      <td>70.0</td>\n",
       "      <td>60.0</td>\n",
       "    </tr>\n",
       "    <tr>\n",
       "      <th>1435</th>\n",
       "      <td>76.0</td>\n",
       "      <td>1.0</td>\n",
       "    </tr>\n",
       "  </tbody>\n",
       "</table>\n",
       "<p>1436 rows × 2 columns</p>\n",
       "</div>"
      ],
      "text/plain": [
       "       Age       KM\n",
       "0     23.0  46986.0\n",
       "1     23.0  72937.0\n",
       "2     24.0  41711.0\n",
       "3     26.0  48000.0\n",
       "4     30.0  38500.0\n",
       "...    ...      ...\n",
       "1431  60.0  20544.0\n",
       "1432  72.0     60.0\n",
       "1433  60.0  17016.0\n",
       "1434  70.0     60.0\n",
       "1435  76.0      1.0\n",
       "\n",
       "[1436 rows x 2 columns]"
      ]
     },
     "execution_count": 13,
     "metadata": {},
     "output_type": "execute_result"
    }
   ],
   "source": [
    "#Setting the value for X and Y\n",
    "X = cars[['Age', 'KM']]\n",
    "y = cars['Price']\n",
    "X"
   ]
  },
  {
   "cell_type": "markdown",
   "id": "be7818af",
   "metadata": {},
   "source": [
    "\n",
    "### A boxplot is a graphical representation that displays the distribution of a dataset, highlighting important statistics such as the median, quartiles, and potential outliers. While boxplots are commonly used for exploring the distribution of data, they may not be directly related to linear regression model evaluation. However, they can be useful in the context of linear regression in a few ways:\n",
    "\n",
    "> * Identifying Outliers: Boxplots are effective in identifying potential outliers in the target variable or features. Outliers can have a significant impact on linear regression models, as they may disproportionately influence the estimated coefficients. By visualizing the distribution of the target variable with a boxplot, you can quickly identify if there are extreme values that might need special attention.\n",
    "\n",
    "> * Checking Residuals: In linear regression, residuals represent the differences between the actual and predicted values. By creating a boxplot of the residuals, you can assess whether the model assumptions are met. Ideally, the residuals should be homoscedastic (have constant variance) and exhibit a normal distribution. Boxplots can help in identifying patterns or non-constant variance in residuals."
   ]
  },
  {
   "cell_type": "code",
   "execution_count": 11,
   "id": "f8428a66",
   "metadata": {},
   "outputs": [
    {
     "data": {
      "image/png": "[encoded data removed]",
      "text/plain": [
       "<Figure size 360x360 with 2 Axes>"
      ]
     },
     "metadata": {
      "needs_background": "light"
     },
     "output_type": "display_data"
    }
   ],
   "source": [
    "fig, axs = plt.subplots(2, figsize = (5,5))\n",
    "plt1 = sns.boxplot(cars['Age'], ax = axs[0])\n",
    "plt2 = sns.boxplot(cars['KM'], ax = axs[1])\n",
    "plt.tight_layout()"
   ]
  },
  {
   "cell_type": "markdown",
   "id": "bd07cbb8",
   "metadata": {},
   "source": [
    "### Exploratory Data Analysis\n",
    "### Distribution of the target variable"
   ]
  },
  {
   "cell_type": "markdown",
   "id": "864505ed",
   "metadata": {},
   "source": [
    "###  A distplot is a seaborn function used to visualize the distribution of a univariate dataset. While it's not directly used to evaluate the efficiency of a linear regression model, it can still be informative, especially when examining the distribution of residuals. Residuals are the differences between the actual and predicted values, and analyzing their distribution can provide insights into the model's performance"
   ]
  },
  {
   "cell_type": "code",
   "execution_count": 12,
   "id": "f6a0e365",
   "metadata": {},
   "outputs": [
    {
     "data": {
      "image/png": "[encoded data removed]",
      "text/plain": [
       "<Figure size 432x288 with 1 Axes>"
      ]
     },
     "metadata": {
      "needs_background": "light"
     },
     "output_type": "display_data"
    }
   ],
   "source": [
    "sns.distplot(cars['Price']);"
   ]
  },
  {
   "cell_type": "markdown",
   "id": "e08c9e5f",
   "metadata": {},
   "source": [
    "###  The pairplot function in the seaborn library is used to create a matrix of scatterplots for a dataset. Each scatterplot shows the relationship between two variables, and the diagonal of the matrix shows the distribution of each variable."
   ]
  },
  {
   "cell_type": "code",
   "execution_count": 13,
   "id": "fc28d6fb",
   "metadata": {},
   "outputs": [
    {
     "data": {
      "image/png": "[encoded data removed]",
      "text/plain": [
       "<Figure size 576x288 with 2 Axes>"
      ]
     },
     "metadata": {
      "needs_background": "light"
     },
     "output_type": "display_data"
    }
   ],
   "source": [
    "sns.pairplot(cars, x_vars=['Age', 'KM'], y_vars='Price', height=4, aspect=1, kind='scatter')\n",
    "plt.show()"
   ]
  },
  {
   "cell_type": "markdown",
   "id": "6c7f043a",
   "metadata": {},
   "source": [
    "###  A heatmap and correlation matrix are powerful tools in the context of machine learning when working with datasets with multiple features. They help in understanding the relationships between different variables and can be significant in various stages of the machine learning model development process.\n",
    "\n",
    "The significance of the heatmap and correlation matrix in making ML models:\n",
    "\n",
    "> * Identifying Feature Relationships:\n",
    "The heatmap visualizes the correlation matrix, which provides insights into how features are correlated with each other. Understanding these relationships is crucial for feature selection and engineering. Highly correlated features might introduce multicollinearity, which can affect the performance of certain models like linear regression.\n",
    "\n",
    "> *  Feature Selection:\n",
    "By analyzing the correlation matrix, you can identify features that are strongly correlated with the target variable. Features with high correlations are generally more informative and might contribute more to the predictive power of the model.\n",
    "\n",
    "> * Detecting Multicollinearity:\n",
    " Multicollinearity occurs when two or more features in a model are highly correlated. This can lead to issues in interpretation and stability of coefficients in linear regression models. The correlation matrix helps in identifying and addressing multicollinearity.\n",
    "\n",
    "> * Model Performance:\n",
    "Understanding feature correlations can provide insights into potential issues that might affect model performance. For example, if two features are highly correlated, it may be redundant to include both in the model.\n",
    "Assumptions and Interpretability:\n",
    "\n",
    "In linear regression, it's assumed that features are not highly correlated. The correlation matrix helps verify this assumption. Additionally, interpreting the impact of individual features becomes more straightforward when features are not strongly correlated."
   ]
  },
  {
   "cell_type": "code",
   "execution_count": 14,
   "id": "6c457727",
   "metadata": {},
   "outputs": [
    {
     "data": {
      "image/png": "[encoded data removed]",
      "text/plain": [
       "<Figure size 432x288 with 2 Axes>"
      ]
     },
     "metadata": {
      "needs_background": "light"
     },
     "output_type": "display_data"
    }
   ],
   "source": [
    "# Create the correlation matrix and represent it as a heatmap.\n",
    "sns.heatmap(cars.corr(), annot = True, cmap = 'coolwarm')\n",
    "plt.show()"
   ]
  },
  {
   "cell_type": "code",
   "execution_count": 15,
   "id": "56c52290",
   "metadata": {},
   "outputs": [],
   "source": [
    "X_train,X_test, y_train, y_test = train_test_split(X, y, test_size = 0.3, random_state = 100)"
   ]
  },
  {
   "cell_type": "code",
   "execution_count": 16,
   "id": "e9963926",
   "metadata": {},
   "outputs": [
    {
     "data": {
      "text/plain": [
       "(1005,)"
      ]
     },
     "execution_count": 16,
     "metadata": {},
     "output_type": "execute_result"
    }
   ],
   "source": [
    "y_train.shape"
   ]
  },
  {
   "cell_type": "code",
   "execution_count": 17,
   "id": "960cb8fe",
   "metadata": {},
   "outputs": [
    {
     "data": {
      "text/plain": [
       "(431,)"
      ]
     },
     "execution_count": 17,
     "metadata": {},
     "output_type": "execute_result"
    }
   ],
   "source": [
    "y_test.shape"
   ]
  },
  {
   "cell_type": "code",
   "execution_count": 18,
   "id": "34c578ab",
   "metadata": {},
   "outputs": [],
   "source": [
    "reg_model = linear_model.LinearRegression()"
   ]
  },
  {
   "cell_type": "code",
   "execution_count": 19,
   "id": "ed544f08",
   "metadata": {},
   "outputs": [],
   "source": [
    "#Fitting the Multiple Linear Regression model\n",
    "reg_model = LinearRegression().fit(X_train, y_train)"
   ]
  },
  {
   "cell_type": "code",
   "execution_count": 20,
   "id": "ab456839",
   "metadata": {},
   "outputs": [
    {
     "name": "stdout",
     "output_type": "stream",
     "text": [
      "Intercept:  20616.168748892465\n"
     ]
    },
    {
     "data": {
      "text/plain": [
       "[('Age', -150.0268904506487), ('KM', -0.020801181882424982)]"
      ]
     },
     "execution_count": 20,
     "metadata": {},
     "output_type": "execute_result"
    }
   ],
   "source": [
    "#Printing the model coefficients\n",
    "print('Intercept: ',reg_model.intercept_)\n",
    "# pair the feature names with the coefficients\n",
    "list(zip(X, reg_model.coef_))"
   ]
  },
  {
   "cell_type": "code",
   "execution_count": 21,
   "id": "049267ad",
   "metadata": {},
   "outputs": [],
   "source": [
    "#Predicting the Test and Train set result \n",
    "y_pred= reg_model.predict(X_test)  \n",
    "x_pred= reg_model.predict(X_train) "
   ]
  },
  {
   "cell_type": "code",
   "execution_count": 22,
   "id": "8f17c57f",
   "metadata": {},
   "outputs": [
    {
     "name": "stdout",
     "output_type": "stream",
     "text": [
      "Prediction for test set: [15821.01877623  9900.15251554 14256.65593138  9637.15113854\n",
      "  7222.82243408  8454.11229221 13933.07274602  4562.67532351\n",
      " 12787.715838    7129.58826913 14512.37912594  7973.32803985\n",
      " 12611.1707084   5999.5159255  19265.90593365  8093.7701507\n",
      " 14275.51383664 16062.57740247 17366.27513819  9374.02272323\n",
      " 13039.92690057  9026.41090504 12599.23409775 11201.68366059\n",
      "  9218.44637964  9017.62403957 10512.09268209  7882.10178629\n",
      "  9927.44589738  9086.27566995  9430.4312242  14513.93594683\n",
      "  8048.21006342 19207.94180646  9966.64735852  8868.64597493\n",
      " 10428.88795456  7793.63659095 12933.32411118 11742.49908732\n",
      "  7222.83446854  7737.24116099  9778.34079444 15067.97542627\n",
      "  9120.04905916  8411.0112068  12065.92789769  7519.1670691\n",
      " 12049.55633101 13596.83367536 11367.06835878 13480.13027828\n",
      " 12396.55837942 14380.29815649 16305.15648129 11742.72463256\n",
      " 16195.92724401  7961.09144594 14250.85240164  9520.04048454\n",
      " 19212.35165702  7568.49320685 13684.33548082 11815.86158806\n",
      " 10228.42146579 18705.85818041  9525.08967277 14584.76397114\n",
      " 12665.93145358  9139.62743373 10965.07571564  6584.90382257\n",
      " 10971.57548765 19190.4480125   9471.14567265  8211.37899652\n",
      "  9555.95209118 14474.0184788   9397.96161582 12755.73892249\n",
      "  9846.45486185  9030.02154397 11947.36116096  9976.22793665\n",
      " 17137.20375658 15020.44472567  7936.15736437  8231.70828673\n",
      " 13793.8296345   7928.5989633   6823.28106265  9914.20208003\n",
      "  7822.86759233 12000.82792857 10192.66096638  9116.76574018\n",
      " 12683.88287355 13827.38194088  9385.59367932  9916.94783604\n",
      " 10810.99586248  9937.20491944  7178.06052187  9951.8642537\n",
      "  7776.38021858 10366.48440891  7715.34078422  7145.51647549\n",
      "  7253.82719301  7509.88424302 15884.6769283   7969.90238035\n",
      "  7873.09041211 11471.35241373  8244.00178522 15648.77622353\n",
      "  7245.44758446 12972.03184291  7512.91468007  7948.7608075\n",
      "  7293.14246331 18829.94599705 18630.49549844 17012.39666529\n",
      "  7418.83420216 10721.74245344 18661.44765709  9957.562741\n",
      "  9234.61766467 17153.37504162 13640.11216814  7826.43989666\n",
      " 17225.90876284 13162.65387368  9631.65962652 11711.9180822\n",
      "  9662.55161282  7932.98801268 11598.88445985  7926.77722601\n",
      "  8913.78023532  9588.00017696 11128.5828085  14268.90902218\n",
      "  9421.91254289 12309.59517347  7406.68408074 10684.48411081\n",
      " 14090.6526967  13257.41529162 10203.6286882   8710.71359882\n",
      " 13854.47711415  8912.82322283 11393.83844332  6804.31468907\n",
      "  6954.031793    8798.19237189 19265.90593365  9155.0749817\n",
      " 16583.3963579   9569.11597156  8231.89446082 10846.09725957\n",
      " 13747.00617408 14865.77040494 10422.27867768  8040.48955719\n",
      " 12398.77310795  7413.25948542  9356.69207097 11519.33850912\n",
      " 12521.60631818 17857.69979241  8454.72429319  8611.74587972\n",
      " 11487.84551975  7433.31836026  8559.90829792 18220.09144766\n",
      "  9891.77187045 17786.63092063  9805.15025013  8772.33873402\n",
      "  9519.8893773  10092.49124115  9754.41289977 11128.5828085\n",
      "  6809.50518128 14329.59364178 11612.10524481  9214.10427346\n",
      " 13706.90149541 15516.59674713 10274.44244683 13504.72277423\n",
      " 13640.24024298  9746.81170167 12732.85762241  6395.03509677\n",
      " 10873.79255749  9470.12314698 10446.87770913 14617.94839175\n",
      "  9580.45811465  7775.31609055 13812.684272    8687.84210201\n",
      "  9688.59572909 14311.86776706 13095.19890859 12293.57172792\n",
      "  8921.42407233 13778.6272383   7312.25874946  9570.06732697\n",
      "  9657.56913243 14460.76262698 10456.387117   13701.12753356\n",
      "  8084.45672018  8815.50445418  9048.37695311 12274.45647831\n",
      "  8424.9720676  10748.73465735  8582.54428811 16564.19463581\n",
      "  9321.40999874  9924.45929391 10992.4796389  10575.80996994\n",
      "  5285.82841165 12606.12048362 14776.6187706  11232.6182858\n",
      " 10174.08877872 10773.67081201  6823.82292992  7749.81934052\n",
      "  8328.21373619  5228.20260233  6415.7059726   8904.78535803\n",
      "  7350.85593977  8539.49357178 12597.90832108 12497.320341\n",
      "  8556.11475265  6367.38482709  7478.78974385  9803.5605936\n",
      " 11786.52642265  6427.08525563 11266.1028478   9517.08671671\n",
      "  9600.04732902 11822.78288267 10245.55303107 12539.09788093\n",
      "  9532.94048506 10016.98621867 10624.43659768 18054.86765997\n",
      "  6696.46932772 10754.97827967  7223.60411227  6865.63553672\n",
      "  8301.34410816 12129.62334782 10708.14055357 10110.97368859\n",
      "  6712.51253792 13396.85764825  9640.70814064 12363.44170319\n",
      "  8346.18595734  9145.02251189 15813.41980934 11459.35666729\n",
      "  6323.08157743  8418.01466959 19932.85645956 12116.37522617\n",
      " 16683.22122975 11133.00142577  9216.92016319 17466.13284569\n",
      "  8845.41432252 10264.26740114  9937.20491944 14260.41217859\n",
      "  8492.95359774 13095.73320381  6814.81275041  4818.7784383\n",
      " 11677.70667351 11271.62050183 15745.20173602 14647.52113688\n",
      "  7242.32740718  8572.65392346 11540.05648627  8808.70469892\n",
      " 11260.60241094  7163.17237461 14515.50583873 14489.9434174\n",
      " 18142.25342505  9129.08553881 17614.38286897 11812.92965796\n",
      " 10215.34302135 10746.77384729 15842.84798274 10853.11602458\n",
      " 11245.84456973  9442.39517153 11394.57955569  9313.16946297\n",
      " 10289.87692379 18390.98519129 12983.76044174  8612.76944193\n",
      " 10586.62331677 10903.01479216 10897.49698    11474.65757044\n",
      " 11981.88785513 15314.5165329   9712.37921015 11731.06497279\n",
      " 19270.34535211 11697.41742722  9240.34779295  8632.98388642\n",
      "  9060.42856759  9601.28990097  7980.601918    9540.46070964\n",
      "  7091.37099905  9105.51453199 15770.72478619 10628.57930063\n",
      " 10795.76389838 17316.61944928  6822.84854213  8304.58359358\n",
      " 12607.40465794 10149.04965469  6834.16438507 11459.15742218\n",
      " 10825.62236109  7764.32103205  9466.06468531  7347.73576249\n",
      " 10280.08506608 16247.30616326 11413.41339201  8772.86203132\n",
      "  7963.71566261  8229.17381029 10125.1107621   7280.03994993\n",
      " 14374.31618282 12079.58773868  8104.11710481  8713.10677128\n",
      "  9898.53002336 16295.09197701 15243.29001838 15408.12185137\n",
      " 13870.75567285  7416.38619821 13203.73947565 14243.80080098\n",
      "  9995.78654658 11279.92894012  9714.72097699  7612.3027271\n",
      "  5465.90974217  9003.7355437  11247.40792612 12472.12030648\n",
      " 19311.94771588  7373.38138854 10953.7050412  10608.4021542\n",
      " 12066.44465949  6967.06759854 12777.96558266 13545.39562032\n",
      " 13388.78025417 10177.98186748  7727.58391364  9514.92785621\n",
      " 10780.57353664 11857.31284459 13698.49231897 19357.96869691\n",
      "  8554.04993668 13991.21531713 14257.838331    8905.98305986\n",
      "  9762.56042756  8510.68823917 16273.70286307 16686.40930954\n",
      "  7922.61698963  5527.89726418 11583.14999963  7355.52194002\n",
      "  6187.90346309  7922.54032041  8812.04595903  8781.01059566\n",
      "  9449.9405016  17199.60730223 10959.73411619 10362.75119409\n",
      " 15418.2509904   6486.05660627  9710.28259507 11853.84781393\n",
      " 17986.92550098 12599.917269    7242.17956769 18276.57869094\n",
      " 10095.77782789  9293.71159119  9655.93133802]\n"
     ]
    }
   ],
   "source": [
    "print(\"Prediction for test set: {}\".format(y_pred))"
   ]
  },
  {
   "cell_type": "code",
   "execution_count": 23,
   "id": "9e2b7aed",
   "metadata": {},
   "outputs": [
    {
     "data": {
      "text/html": [
       "<div>\n",
       "<style scoped>\n",
       "    .dataframe tbody tr th:only-of-type {\n",
       "        vertical-align: middle;\n",
       "    }\n",
       "\n",
       "    .dataframe tbody tr th {\n",
       "        vertical-align: top;\n",
       "    }\n",
       "\n",
       "    .dataframe thead th {\n",
       "        text-align: right;\n",
       "    }\n",
       "</style>\n",
       "<table border=\"1\" class=\"dataframe\">\n",
       "  <thead>\n",
       "    <tr style=\"text-align: right;\">\n",
       "      <th></th>\n",
       "      <th>Actual value</th>\n",
       "      <th>Predicted value</th>\n",
       "    </tr>\n",
       "  </thead>\n",
       "  <tbody>\n",
       "    <tr>\n",
       "      <th>57</th>\n",
       "      <td>15250</td>\n",
       "      <td>15821.018776</td>\n",
       "    </tr>\n",
       "    <tr>\n",
       "      <th>1002</th>\n",
       "      <td>8250</td>\n",
       "      <td>9900.152516</td>\n",
       "    </tr>\n",
       "    <tr>\n",
       "      <th>360</th>\n",
       "      <td>12950</td>\n",
       "      <td>14256.655931</td>\n",
       "    </tr>\n",
       "    <tr>\n",
       "      <th>903</th>\n",
       "      <td>9750</td>\n",
       "      <td>9637.151139</td>\n",
       "    </tr>\n",
       "    <tr>\n",
       "      <th>1277</th>\n",
       "      <td>8800</td>\n",
       "      <td>7222.822434</td>\n",
       "    </tr>\n",
       "    <tr>\n",
       "      <th>...</th>\n",
       "      <td>...</td>\n",
       "      <td>...</td>\n",
       "    </tr>\n",
       "    <tr>\n",
       "      <th>1326</th>\n",
       "      <td>7400</td>\n",
       "      <td>7242.179568</td>\n",
       "    </tr>\n",
       "    <tr>\n",
       "      <th>106</th>\n",
       "      <td>18800</td>\n",
       "      <td>18276.578691</td>\n",
       "    </tr>\n",
       "    <tr>\n",
       "      <th>1284</th>\n",
       "      <td>8950</td>\n",
       "      <td>10095.777828</td>\n",
       "    </tr>\n",
       "    <tr>\n",
       "      <th>740</th>\n",
       "      <td>8250</td>\n",
       "      <td>9293.711591</td>\n",
       "    </tr>\n",
       "    <tr>\n",
       "      <th>808</th>\n",
       "      <td>8250</td>\n",
       "      <td>9655.931338</td>\n",
       "    </tr>\n",
       "  </tbody>\n",
       "</table>\n",
       "<p>431 rows × 2 columns</p>\n",
       "</div>"
      ],
      "text/plain": [
       "      Actual value  Predicted value\n",
       "57           15250     15821.018776\n",
       "1002          8250      9900.152516\n",
       "360          12950     14256.655931\n",
       "903           9750      9637.151139\n",
       "1277          8800      7222.822434\n",
       "...            ...              ...\n",
       "1326          7400      7242.179568\n",
       "106          18800     18276.578691\n",
       "1284          8950     10095.777828\n",
       "740           8250      9293.711591\n",
       "808           8250      9655.931338\n",
       "\n",
       "[431 rows x 2 columns]"
      ]
     },
     "execution_count": 23,
     "metadata": {},
     "output_type": "execute_result"
    }
   ],
   "source": [
    "#Actual value and the predicted value\n",
    "reg_model_diff = pd.DataFrame({'Actual value': y_test, 'Predicted value': y_pred})\n",
    "reg_model_diff"
   ]
  },
  {
   "cell_type": "code",
   "execution_count": 24,
   "id": "5c8c0627",
   "metadata": {},
   "outputs": [
    {
     "name": "stdout",
     "output_type": "stream",
     "text": [
      "Mean Absolute Error: 1195.0092003032553\n",
      "Mean Square Error: 2756859.8091554996\n",
      "Root Mean Square Error: 1660.3794172283333\n"
     ]
    }
   ],
   "source": [
    "mae = metrics.mean_absolute_error(y_test, y_pred)\n",
    "mse = metrics.mean_squared_error(y_test, y_pred)\n",
    "r2 = np.sqrt(metrics.mean_squared_error(y_test, y_pred))\n",
    "\n",
    "print('Mean Absolute Error:', mae)\n",
    "print('Mean Square Error:', mse)\n",
    "print('Root Mean Square Error:', r2)"
   ]
  },
  {
   "cell_type": "code",
   "execution_count": null,
   "id": "77c996d4",
   "metadata": {},
   "outputs": [],
   "source": []
  }
 ],
 "metadata": {
  "kernelspec": {
   "display_name": "Python 3 (ipykernel)",
   "language": "python",
   "name": "python3"
  },
  "language_info": {
   "codemirror_mode": {
    "name": "ipython",
    "version": 3
   },
   "file_extension": ".py",
   "mimetype": "text/x-python",
   "name": "python",
   "nbconvert_exporter": "python",
   "pygments_lexer": "ipython3",
   "version": "3.9.7"
  }
 },
 "nbformat": 4,
 "nbformat_minor": 5
}
