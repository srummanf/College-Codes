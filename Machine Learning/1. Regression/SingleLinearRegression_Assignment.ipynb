{
 "cells": [
  {
   "cell_type": "markdown",
   "id": "d3f92b87",
   "metadata": {},
   "source": [
    "# SINGLE LINEAR PROGRAMMING\n",
    "## Shaikh Rumman Fardeen 21BCE1736"
   ]
  },
  {
   "cell_type": "markdown",
   "id": "3ff9d4d6",
   "metadata": {},
   "source": [
    "## In this lab assignment we will be exploring Single Linear Regression by finding Price of a Car based on its Age "
   ]
  },
  {
   "cell_type": "code",
   "execution_count": 1,
   "id": "fb14f76b",
   "metadata": {},
   "outputs": [],
   "source": [
    "# Step 1 : import library\n",
    "import pandas as pd"
   ]
  },
  {
   "cell_type": "code",
   "execution_count": 2,
   "id": "cab39661",
   "metadata": {},
   "outputs": [
    {
     "data": {
      "text/html": [
       "<div>\n",
       "<style scoped>\n",
       "    .dataframe tbody tr th:only-of-type {\n",
       "        vertical-align: middle;\n",
       "    }\n",
       "\n",
       "    .dataframe tbody tr th {\n",
       "        vertical-align: top;\n",
       "    }\n",
       "\n",
       "    .dataframe thead th {\n",
       "        text-align: right;\n",
       "    }\n",
       "</style>\n",
       "<table border=\"1\" class=\"dataframe\">\n",
       "  <thead>\n",
       "    <tr style=\"text-align: right;\">\n",
       "      <th></th>\n",
       "      <th>Unnamed: 0</th>\n",
       "      <th>Price</th>\n",
       "      <th>Age</th>\n",
       "      <th>KM</th>\n",
       "      <th>FuelType</th>\n",
       "      <th>HP</th>\n",
       "      <th>MetColor</th>\n",
       "      <th>Automatic</th>\n",
       "      <th>CC</th>\n",
       "      <th>Doors</th>\n",
       "      <th>Weight</th>\n",
       "    </tr>\n",
       "  </thead>\n",
       "  <tbody>\n",
       "    <tr>\n",
       "      <th>0</th>\n",
       "      <td>0</td>\n",
       "      <td>13500</td>\n",
       "      <td>23.0</td>\n",
       "      <td>46986</td>\n",
       "      <td>Diesel</td>\n",
       "      <td>90</td>\n",
       "      <td>1.0</td>\n",
       "      <td>0</td>\n",
       "      <td>2000</td>\n",
       "      <td>three</td>\n",
       "      <td>1165</td>\n",
       "    </tr>\n",
       "    <tr>\n",
       "      <th>1</th>\n",
       "      <td>1</td>\n",
       "      <td>13750</td>\n",
       "      <td>23.0</td>\n",
       "      <td>72937</td>\n",
       "      <td>Diesel</td>\n",
       "      <td>90</td>\n",
       "      <td>1.0</td>\n",
       "      <td>0</td>\n",
       "      <td>2000</td>\n",
       "      <td>3</td>\n",
       "      <td>1165</td>\n",
       "    </tr>\n",
       "    <tr>\n",
       "      <th>2</th>\n",
       "      <td>2</td>\n",
       "      <td>13950</td>\n",
       "      <td>24.0</td>\n",
       "      <td>41711</td>\n",
       "      <td>Diesel</td>\n",
       "      <td>90</td>\n",
       "      <td>NaN</td>\n",
       "      <td>0</td>\n",
       "      <td>2000</td>\n",
       "      <td>3</td>\n",
       "      <td>1165</td>\n",
       "    </tr>\n",
       "    <tr>\n",
       "      <th>3</th>\n",
       "      <td>3</td>\n",
       "      <td>14950</td>\n",
       "      <td>26.0</td>\n",
       "      <td>48000</td>\n",
       "      <td>Diesel</td>\n",
       "      <td>90</td>\n",
       "      <td>0.0</td>\n",
       "      <td>0</td>\n",
       "      <td>2000</td>\n",
       "      <td>3</td>\n",
       "      <td>1165</td>\n",
       "    </tr>\n",
       "    <tr>\n",
       "      <th>4</th>\n",
       "      <td>4</td>\n",
       "      <td>13750</td>\n",
       "      <td>30.0</td>\n",
       "      <td>38500</td>\n",
       "      <td>Diesel</td>\n",
       "      <td>90</td>\n",
       "      <td>0.0</td>\n",
       "      <td>0</td>\n",
       "      <td>2000</td>\n",
       "      <td>3</td>\n",
       "      <td>1170</td>\n",
       "    </tr>\n",
       "    <tr>\n",
       "      <th>...</th>\n",
       "      <td>...</td>\n",
       "      <td>...</td>\n",
       "      <td>...</td>\n",
       "      <td>...</td>\n",
       "      <td>...</td>\n",
       "      <td>...</td>\n",
       "      <td>...</td>\n",
       "      <td>...</td>\n",
       "      <td>...</td>\n",
       "      <td>...</td>\n",
       "      <td>...</td>\n",
       "    </tr>\n",
       "    <tr>\n",
       "      <th>1431</th>\n",
       "      <td>1431</td>\n",
       "      <td>7500</td>\n",
       "      <td>NaN</td>\n",
       "      <td>20544</td>\n",
       "      <td>Petrol</td>\n",
       "      <td>86</td>\n",
       "      <td>1.0</td>\n",
       "      <td>0</td>\n",
       "      <td>1300</td>\n",
       "      <td>3</td>\n",
       "      <td>1025</td>\n",
       "    </tr>\n",
       "    <tr>\n",
       "      <th>1432</th>\n",
       "      <td>1432</td>\n",
       "      <td>10845</td>\n",
       "      <td>72.0</td>\n",
       "      <td>??</td>\n",
       "      <td>Petrol</td>\n",
       "      <td>86</td>\n",
       "      <td>0.0</td>\n",
       "      <td>0</td>\n",
       "      <td>1300</td>\n",
       "      <td>3</td>\n",
       "      <td>1015</td>\n",
       "    </tr>\n",
       "    <tr>\n",
       "      <th>1433</th>\n",
       "      <td>1433</td>\n",
       "      <td>8500</td>\n",
       "      <td>NaN</td>\n",
       "      <td>17016</td>\n",
       "      <td>Petrol</td>\n",
       "      <td>86</td>\n",
       "      <td>0.0</td>\n",
       "      <td>0</td>\n",
       "      <td>1300</td>\n",
       "      <td>3</td>\n",
       "      <td>1015</td>\n",
       "    </tr>\n",
       "    <tr>\n",
       "      <th>1434</th>\n",
       "      <td>1434</td>\n",
       "      <td>7250</td>\n",
       "      <td>70.0</td>\n",
       "      <td>??</td>\n",
       "      <td>NaN</td>\n",
       "      <td>86</td>\n",
       "      <td>1.0</td>\n",
       "      <td>0</td>\n",
       "      <td>1300</td>\n",
       "      <td>3</td>\n",
       "      <td>1015</td>\n",
       "    </tr>\n",
       "    <tr>\n",
       "      <th>1435</th>\n",
       "      <td>1435</td>\n",
       "      <td>6950</td>\n",
       "      <td>76.0</td>\n",
       "      <td>1</td>\n",
       "      <td>Petrol</td>\n",
       "      <td>110</td>\n",
       "      <td>0.0</td>\n",
       "      <td>0</td>\n",
       "      <td>1600</td>\n",
       "      <td>5</td>\n",
       "      <td>1114</td>\n",
       "    </tr>\n",
       "  </tbody>\n",
       "</table>\n",
       "<p>1436 rows × 11 columns</p>\n",
       "</div>"
      ],
      "text/plain": [
       "      Unnamed: 0  Price   Age     KM FuelType   HP  MetColor  Automatic    CC  \\\n",
       "0              0  13500  23.0  46986   Diesel   90       1.0          0  2000   \n",
       "1              1  13750  23.0  72937   Diesel   90       1.0          0  2000   \n",
       "2              2  13950  24.0  41711   Diesel   90       NaN          0  2000   \n",
       "3              3  14950  26.0  48000   Diesel   90       0.0          0  2000   \n",
       "4              4  13750  30.0  38500   Diesel   90       0.0          0  2000   \n",
       "...          ...    ...   ...    ...      ...  ...       ...        ...   ...   \n",
       "1431        1431   7500   NaN  20544   Petrol   86       1.0          0  1300   \n",
       "1432        1432  10845  72.0     ??   Petrol   86       0.0          0  1300   \n",
       "1433        1433   8500   NaN  17016   Petrol   86       0.0          0  1300   \n",
       "1434        1434   7250  70.0     ??      NaN   86       1.0          0  1300   \n",
       "1435        1435   6950  76.0      1   Petrol  110       0.0          0  1600   \n",
       "\n",
       "      Doors  Weight  \n",
       "0     three    1165  \n",
       "1         3    1165  \n",
       "2         3    1165  \n",
       "3         3    1165  \n",
       "4         3    1170  \n",
       "...     ...     ...  \n",
       "1431      3    1025  \n",
       "1432      3    1015  \n",
       "1433      3    1015  \n",
       "1434      3    1015  \n",
       "1435      5    1114  \n",
       "\n",
       "[1436 rows x 11 columns]"
      ]
     },
     "execution_count": 2,
     "metadata": {},
     "output_type": "execute_result"
    }
   ],
   "source": [
    "# Step 2 : import data\n",
    "cars = pd.read_csv('cars.csv')\n",
    "cars"
   ]
  },
  {
   "cell_type": "markdown",
   "id": "3c46ab55",
   "metadata": {},
   "source": [
    "### Data preprocessing : We will be filling the null values with median values\n",
    "### fillna function is used to fill missing values (NaN) with a specified value or a method, like forward fill or backward fill."
   ]
  },
  {
   "cell_type": "code",
   "execution_count": 3,
   "id": "6b4e532f",
   "metadata": {},
   "outputs": [
    {
     "data": {
      "text/html": [
       "<div>\n",
       "<style scoped>\n",
       "    .dataframe tbody tr th:only-of-type {\n",
       "        vertical-align: middle;\n",
       "    }\n",
       "\n",
       "    .dataframe tbody tr th {\n",
       "        vertical-align: top;\n",
       "    }\n",
       "\n",
       "    .dataframe thead th {\n",
       "        text-align: right;\n",
       "    }\n",
       "</style>\n",
       "<table border=\"1\" class=\"dataframe\">\n",
       "  <thead>\n",
       "    <tr style=\"text-align: right;\">\n",
       "      <th></th>\n",
       "      <th>Unnamed: 0</th>\n",
       "      <th>Price</th>\n",
       "      <th>Age</th>\n",
       "      <th>KM</th>\n",
       "      <th>FuelType</th>\n",
       "      <th>HP</th>\n",
       "      <th>MetColor</th>\n",
       "      <th>Automatic</th>\n",
       "      <th>CC</th>\n",
       "      <th>Doors</th>\n",
       "      <th>Weight</th>\n",
       "    </tr>\n",
       "  </thead>\n",
       "  <tbody>\n",
       "    <tr>\n",
       "      <th>0</th>\n",
       "      <td>0</td>\n",
       "      <td>13500</td>\n",
       "      <td>23.0</td>\n",
       "      <td>46986</td>\n",
       "      <td>Diesel</td>\n",
       "      <td>90</td>\n",
       "      <td>1.0</td>\n",
       "      <td>0</td>\n",
       "      <td>2000</td>\n",
       "      <td>three</td>\n",
       "      <td>1165</td>\n",
       "    </tr>\n",
       "    <tr>\n",
       "      <th>1</th>\n",
       "      <td>1</td>\n",
       "      <td>13750</td>\n",
       "      <td>23.0</td>\n",
       "      <td>72937</td>\n",
       "      <td>Diesel</td>\n",
       "      <td>90</td>\n",
       "      <td>1.0</td>\n",
       "      <td>0</td>\n",
       "      <td>2000</td>\n",
       "      <td>3</td>\n",
       "      <td>1165</td>\n",
       "    </tr>\n",
       "    <tr>\n",
       "      <th>2</th>\n",
       "      <td>2</td>\n",
       "      <td>13950</td>\n",
       "      <td>24.0</td>\n",
       "      <td>41711</td>\n",
       "      <td>Diesel</td>\n",
       "      <td>90</td>\n",
       "      <td>NaN</td>\n",
       "      <td>0</td>\n",
       "      <td>2000</td>\n",
       "      <td>3</td>\n",
       "      <td>1165</td>\n",
       "    </tr>\n",
       "    <tr>\n",
       "      <th>3</th>\n",
       "      <td>3</td>\n",
       "      <td>14950</td>\n",
       "      <td>26.0</td>\n",
       "      <td>48000</td>\n",
       "      <td>Diesel</td>\n",
       "      <td>90</td>\n",
       "      <td>0.0</td>\n",
       "      <td>0</td>\n",
       "      <td>2000</td>\n",
       "      <td>3</td>\n",
       "      <td>1165</td>\n",
       "    </tr>\n",
       "    <tr>\n",
       "      <th>4</th>\n",
       "      <td>4</td>\n",
       "      <td>13750</td>\n",
       "      <td>30.0</td>\n",
       "      <td>38500</td>\n",
       "      <td>Diesel</td>\n",
       "      <td>90</td>\n",
       "      <td>0.0</td>\n",
       "      <td>0</td>\n",
       "      <td>2000</td>\n",
       "      <td>3</td>\n",
       "      <td>1170</td>\n",
       "    </tr>\n",
       "    <tr>\n",
       "      <th>...</th>\n",
       "      <td>...</td>\n",
       "      <td>...</td>\n",
       "      <td>...</td>\n",
       "      <td>...</td>\n",
       "      <td>...</td>\n",
       "      <td>...</td>\n",
       "      <td>...</td>\n",
       "      <td>...</td>\n",
       "      <td>...</td>\n",
       "      <td>...</td>\n",
       "      <td>...</td>\n",
       "    </tr>\n",
       "    <tr>\n",
       "      <th>1431</th>\n",
       "      <td>1431</td>\n",
       "      <td>7500</td>\n",
       "      <td>60.0</td>\n",
       "      <td>20544</td>\n",
       "      <td>Petrol</td>\n",
       "      <td>86</td>\n",
       "      <td>1.0</td>\n",
       "      <td>0</td>\n",
       "      <td>1300</td>\n",
       "      <td>3</td>\n",
       "      <td>1025</td>\n",
       "    </tr>\n",
       "    <tr>\n",
       "      <th>1432</th>\n",
       "      <td>1432</td>\n",
       "      <td>10845</td>\n",
       "      <td>72.0</td>\n",
       "      <td>??</td>\n",
       "      <td>Petrol</td>\n",
       "      <td>86</td>\n",
       "      <td>0.0</td>\n",
       "      <td>0</td>\n",
       "      <td>1300</td>\n",
       "      <td>3</td>\n",
       "      <td>1015</td>\n",
       "    </tr>\n",
       "    <tr>\n",
       "      <th>1433</th>\n",
       "      <td>1433</td>\n",
       "      <td>8500</td>\n",
       "      <td>60.0</td>\n",
       "      <td>17016</td>\n",
       "      <td>Petrol</td>\n",
       "      <td>86</td>\n",
       "      <td>0.0</td>\n",
       "      <td>0</td>\n",
       "      <td>1300</td>\n",
       "      <td>3</td>\n",
       "      <td>1015</td>\n",
       "    </tr>\n",
       "    <tr>\n",
       "      <th>1434</th>\n",
       "      <td>1434</td>\n",
       "      <td>7250</td>\n",
       "      <td>70.0</td>\n",
       "      <td>??</td>\n",
       "      <td>NaN</td>\n",
       "      <td>86</td>\n",
       "      <td>1.0</td>\n",
       "      <td>0</td>\n",
       "      <td>1300</td>\n",
       "      <td>3</td>\n",
       "      <td>1015</td>\n",
       "    </tr>\n",
       "    <tr>\n",
       "      <th>1435</th>\n",
       "      <td>1435</td>\n",
       "      <td>6950</td>\n",
       "      <td>76.0</td>\n",
       "      <td>1</td>\n",
       "      <td>Petrol</td>\n",
       "      <td>110</td>\n",
       "      <td>0.0</td>\n",
       "      <td>0</td>\n",
       "      <td>1600</td>\n",
       "      <td>5</td>\n",
       "      <td>1114</td>\n",
       "    </tr>\n",
       "  </tbody>\n",
       "</table>\n",
       "<p>1436 rows × 11 columns</p>\n",
       "</div>"
      ],
      "text/plain": [
       "      Unnamed: 0  Price   Age     KM FuelType   HP  MetColor  Automatic    CC  \\\n",
       "0              0  13500  23.0  46986   Diesel   90       1.0          0  2000   \n",
       "1              1  13750  23.0  72937   Diesel   90       1.0          0  2000   \n",
       "2              2  13950  24.0  41711   Diesel   90       NaN          0  2000   \n",
       "3              3  14950  26.0  48000   Diesel   90       0.0          0  2000   \n",
       "4              4  13750  30.0  38500   Diesel   90       0.0          0  2000   \n",
       "...          ...    ...   ...    ...      ...  ...       ...        ...   ...   \n",
       "1431        1431   7500  60.0  20544   Petrol   86       1.0          0  1300   \n",
       "1432        1432  10845  72.0     ??   Petrol   86       0.0          0  1300   \n",
       "1433        1433   8500  60.0  17016   Petrol   86       0.0          0  1300   \n",
       "1434        1434   7250  70.0     ??      NaN   86       1.0          0  1300   \n",
       "1435        1435   6950  76.0      1   Petrol  110       0.0          0  1600   \n",
       "\n",
       "      Doors  Weight  \n",
       "0     three    1165  \n",
       "1         3    1165  \n",
       "2         3    1165  \n",
       "3         3    1165  \n",
       "4         3    1170  \n",
       "...     ...     ...  \n",
       "1431      3    1025  \n",
       "1432      3    1015  \n",
       "1433      3    1015  \n",
       "1434      3    1015  \n",
       "1435      5    1114  \n",
       "\n",
       "[1436 rows x 11 columns]"
      ]
     },
     "execution_count": 3,
     "metadata": {},
     "output_type": "execute_result"
    }
   ],
   "source": [
    "median_age = cars['Age'].median()\n",
    "cars['Age'].fillna(median_age, inplace=True)\n",
    "cars"
   ]
  },
  {
   "cell_type": "code",
   "execution_count": 4,
   "id": "184829bd",
   "metadata": {},
   "outputs": [],
   "source": [
    "# Step 3 : define target (y) and features (X)"
   ]
  },
  {
   "cell_type": "code",
   "execution_count": 5,
   "id": "2a492dfa",
   "metadata": {},
   "outputs": [
    {
     "data": {
      "text/plain": [
       "Index(['Unnamed: 0', 'Price', 'Age', 'KM', 'FuelType', 'HP', 'MetColor',\n",
       "       'Automatic', 'CC', 'Doors', 'Weight'],\n",
       "      dtype='object')"
      ]
     },
     "execution_count": 5,
     "metadata": {},
     "output_type": "execute_result"
    }
   ],
   "source": [
    "cars.columns"
   ]
  },
  {
   "cell_type": "code",
   "execution_count": 8,
   "id": "5dc158d4",
   "metadata": {},
   "outputs": [
    {
     "data": {
      "text/plain": [
       "0       13500\n",
       "1       13750\n",
       "2       13950\n",
       "3       14950\n",
       "4       13750\n",
       "        ...  \n",
       "1431     7500\n",
       "1432    10845\n",
       "1433     8500\n",
       "1434     7250\n",
       "1435     6950\n",
       "Name: Price, Length: 1436, dtype: int64"
      ]
     },
     "execution_count": 8,
     "metadata": {},
     "output_type": "execute_result"
    }
   ],
   "source": [
    "y = cars['Price']\n",
    "y"
   ]
  },
  {
   "cell_type": "code",
   "execution_count": 9,
   "id": "bf6a76d1",
   "metadata": {},
   "outputs": [
    {
     "data": {
      "text/html": [
       "<div>\n",
       "<style scoped>\n",
       "    .dataframe tbody tr th:only-of-type {\n",
       "        vertical-align: middle;\n",
       "    }\n",
       "\n",
       "    .dataframe tbody tr th {\n",
       "        vertical-align: top;\n",
       "    }\n",
       "\n",
       "    .dataframe thead th {\n",
       "        text-align: right;\n",
       "    }\n",
       "</style>\n",
       "<table border=\"1\" class=\"dataframe\">\n",
       "  <thead>\n",
       "    <tr style=\"text-align: right;\">\n",
       "      <th></th>\n",
       "      <th>Age</th>\n",
       "    </tr>\n",
       "  </thead>\n",
       "  <tbody>\n",
       "    <tr>\n",
       "      <th>0</th>\n",
       "      <td>23.0</td>\n",
       "    </tr>\n",
       "    <tr>\n",
       "      <th>1</th>\n",
       "      <td>23.0</td>\n",
       "    </tr>\n",
       "    <tr>\n",
       "      <th>2</th>\n",
       "      <td>24.0</td>\n",
       "    </tr>\n",
       "    <tr>\n",
       "      <th>3</th>\n",
       "      <td>26.0</td>\n",
       "    </tr>\n",
       "    <tr>\n",
       "      <th>4</th>\n",
       "      <td>30.0</td>\n",
       "    </tr>\n",
       "    <tr>\n",
       "      <th>...</th>\n",
       "      <td>...</td>\n",
       "    </tr>\n",
       "    <tr>\n",
       "      <th>1431</th>\n",
       "      <td>60.0</td>\n",
       "    </tr>\n",
       "    <tr>\n",
       "      <th>1432</th>\n",
       "      <td>72.0</td>\n",
       "    </tr>\n",
       "    <tr>\n",
       "      <th>1433</th>\n",
       "      <td>60.0</td>\n",
       "    </tr>\n",
       "    <tr>\n",
       "      <th>1434</th>\n",
       "      <td>70.0</td>\n",
       "    </tr>\n",
       "    <tr>\n",
       "      <th>1435</th>\n",
       "      <td>76.0</td>\n",
       "    </tr>\n",
       "  </tbody>\n",
       "</table>\n",
       "<p>1436 rows × 1 columns</p>\n",
       "</div>"
      ],
      "text/plain": [
       "       Age\n",
       "0     23.0\n",
       "1     23.0\n",
       "2     24.0\n",
       "3     26.0\n",
       "4     30.0\n",
       "...    ...\n",
       "1431  60.0\n",
       "1432  72.0\n",
       "1433  60.0\n",
       "1434  70.0\n",
       "1435  76.0\n",
       "\n",
       "[1436 rows x 1 columns]"
      ]
     },
     "execution_count": 9,
     "metadata": {},
     "output_type": "execute_result"
    }
   ],
   "source": [
    "X = cars[['Age']]\n",
    "X"
   ]
  },
  {
   "cell_type": "markdown",
   "id": "460eac7f",
   "metadata": {},
   "source": [
    "### in the train_test_split function, which is commonly used for splitting datasets into training and testing sets. This is particularly useful in machine learning workflows to evaluate the performance of models on unseen data.\n",
    "> * X: Feature matrix.\n",
    "> * y: Target variable.\n",
    "> * test_size: The proportion of the dataset to include in the test split (e.g., 0.2 for 20%).\n",
    "> * random_state: Seed for random number generation, ensures reproducibility.\n"
   ]
  },
  {
   "cell_type": "code",
   "execution_count": 12,
   "id": "2eda618d",
   "metadata": {},
   "outputs": [],
   "source": [
    "# Step 4 : train test split\n",
    "from sklearn.model_selection import train_test_split\n",
    "X_train, X_test, y_train, y_test = train_test_split(X,y, train_size=0.7, random_state=2529)"
   ]
  },
  {
   "cell_type": "code",
   "execution_count": 13,
   "id": "bf9d5eda",
   "metadata": {},
   "outputs": [
    {
     "data": {
      "text/plain": [
       "((1005, 1), (431, 1), (1005,), (431,))"
      ]
     },
     "execution_count": 13,
     "metadata": {},
     "output_type": "execute_result"
    }
   ],
   "source": [
    "# check shape of train and test sample\n",
    "X_train.shape, X_test.shape, y_train.shape, y_test.shape"
   ]
  },
  {
   "cell_type": "markdown",
   "id": "21d4a677",
   "metadata": {},
   "source": [
    "### LinearRegression model is commonly used for linear regression, which is a type of supervised learning algorithm for predicting a continuous target variable based on one or more predictor features.\n",
    "> * X: Feature matrix.\n",
    "> * y: Target variable.\n",
    "> * train_test_split: Splits the dataset into training and testing sets.\n",
    "> * LinearRegression: Initializes the linear regression model.\n",
    "> * fit: Trains the model on the training data.\n",
    "> * predict: Generates predictions on the test data.\n",
    "> * mean_squared_error: Measures the model's performance."
   ]
  },
  {
   "cell_type": "code",
   "execution_count": 14,
   "id": "f3455cdf",
   "metadata": {},
   "outputs": [],
   "source": [
    "# Step 5 : select model\n",
    "from sklearn.linear_model import LinearRegression\n",
    "model = LinearRegression()"
   ]
  },
  {
   "cell_type": "markdown",
   "id": "1834e280",
   "metadata": {},
   "source": [
    "### The fit method in scikit-learn is used to train a machine learning model on a given dataset. For linear regression, like in the case of LinearRegression from sklearn.linear_model, the fit method takes the feature matrix (X) and target variable (y) as input and learns the parameters of the linear model."
   ]
  },
  {
   "cell_type": "code",
   "execution_count": 15,
   "id": "27af28fa",
   "metadata": {},
   "outputs": [
    {
     "data": {
      "text/plain": [
       "LinearRegression()"
      ]
     },
     "execution_count": 15,
     "metadata": {},
     "output_type": "execute_result"
    }
   ],
   "source": [
    "# Step 6 : train or fit model\n",
    "model.fit(X_train,y_train)"
   ]
  },
  {
   "cell_type": "markdown",
   "id": "0c04fb27",
   "metadata": {},
   "source": [
    "### In the context of linear regression models, the term \"intercept\" refers to the y-intercept of the linear equation that the model is fitting."
   ]
  },
  {
   "cell_type": "code",
   "execution_count": 16,
   "id": "4cacaf17",
   "metadata": {},
   "outputs": [
    {
     "data": {
      "text/plain": [
       "20234.497021662526"
      ]
     },
     "execution_count": 16,
     "metadata": {},
     "output_type": "execute_result"
    }
   ],
   "source": [
    "model.intercept_"
   ]
  },
  {
   "cell_type": "markdown",
   "id": "85bdf032",
   "metadata": {},
   "source": [
    "### In linear regression models, the coef_ attribute in scikit-learn's LinearRegression represents the coefficients of the features in the linear equation."
   ]
  },
  {
   "cell_type": "code",
   "execution_count": 17,
   "id": "923e7be4",
   "metadata": {},
   "outputs": [
    {
     "data": {
      "text/plain": [
       "array([-169.88821902])"
      ]
     },
     "execution_count": 17,
     "metadata": {},
     "output_type": "execute_result"
    }
   ],
   "source": [
    "model.coef_"
   ]
  },
  {
   "cell_type": "markdown",
   "id": "85df35df",
   "metadata": {},
   "source": [
    "### The predict method in scikit-learn's LinearRegression model is used to generate predictions based on the trained linear regression model. You would typically use this method after training the model with the fit method and splitting your data into training and testing sets."
   ]
  },
  {
   "cell_type": "code",
   "execution_count": 18,
   "id": "ad13eb89",
   "metadata": {},
   "outputs": [],
   "source": [
    "# Step 7 : predict model\n",
    "y_pred = model.predict(X_test)"
   ]
  },
  {
   "cell_type": "code",
   "execution_count": 19,
   "id": "4d396520",
   "metadata": {},
   "outputs": [
    {
     "data": {
      "text/plain": [
       "array([13269.08004184, 17856.06195538,  9701.42744242,  9531.5392234 ,\n",
       "       11570.19785164,  9531.5392234 , 13438.96826086,  9361.65100438,\n",
       "        9191.76278536,  8002.54525222, 11400.30963262, 13778.7446989 ,\n",
       "        6643.43950006, 10211.09209948, 11570.19785164,  9701.42744242,\n",
       "       17686.17373636,  6983.2159381 ,  9021.87456634,  9191.76278536,\n",
       "        6983.2159381 , 10550.86853752, 11400.30963262,  7832.6570332 ,\n",
       "        9191.76278536, 10041.20388046, 14798.07401302, 11230.4214136 ,\n",
       "       15987.29154616, 10380.9803185 ,  6813.32771908,  9531.5392234 ,\n",
       "       10041.20388046,  8682.0981283 , 10720.75675654,  9191.76278536,\n",
       "        6643.43950006, 17516.28551734,  6643.43950006, 16496.95620322,\n",
       "       14628.185794  , 12419.63894674, 10041.20388046,  9531.5392234 ,\n",
       "       15647.51510812,  9701.42744242,  7153.10415712,  9531.5392234 ,\n",
       "       18025.9501744 ,  9871.31566144,  6643.43950006, 10041.20388046,\n",
       "       10890.64497556,  9191.76278536, 12929.3036038 ,  7153.10415712,\n",
       "       11909.97428968,  8682.0981283 ,  7492.88059516,  7832.6570332 ,\n",
       "        7322.99237614, 10380.9803185 , 10041.20388046, 16327.0679842 ,\n",
       "       18195.83839342, 12419.63894674,  6813.32771908, 11740.08607066,\n",
       "        9871.31566144,  9191.76278536,  9361.65100438,  9871.31566144,\n",
       "       12759.41538478,  8682.0981283 ,  9361.65100438,  9021.87456634,\n",
       "        9871.31566144, 16157.17976518,  9701.42744242, 16327.0679842 ,\n",
       "        6983.2159381 , 12929.3036038 ,  8342.32169026, 10211.09209948,\n",
       "        9701.42744242, 13438.96826086, 14628.185794  , 11400.30963262,\n",
       "        9531.5392234 , 13269.08004184, 14288.40935596, 18875.3912695 ,\n",
       "        7153.10415712, 17516.28551734,  7322.99237614, 16836.73264126,\n",
       "        6983.2159381 , 11060.53319458,  6813.32771908, 13269.08004184,\n",
       "       10211.09209948,  7322.99237614, 12079.8625087 , 14967.96223204,\n",
       "       10041.20388046,  6643.43950006,  8851.98634732,  9701.42744242,\n",
       "        9191.76278536, 11060.53319458, 12589.52716576, 10041.20388046,\n",
       "        7322.99237614,  8512.20990928, 10550.86853752,  8682.0981283 ,\n",
       "       14288.40935596, 10041.20388046, 11060.53319458,  8851.98634732,\n",
       "       12079.8625087 ,  9531.5392234 , 13099.19182282, 10720.75675654,\n",
       "       10041.20388046,  7662.76881418, 15137.85045106,  6983.2159381 ,\n",
       "        7322.99237614, 13438.96826086, 12759.41538478, 11400.30963262,\n",
       "       11570.19785164,  8851.98634732,  9531.5392234 , 10720.75675654,\n",
       "        8682.0981283 , 11400.30963262, 10211.09209948, 10550.86853752,\n",
       "       13778.7446989 ,  6643.43950006, 13438.96826086, 10211.09209948,\n",
       "       10890.64497556,  9531.5392234 , 10041.20388046,  9361.65100438,\n",
       "       10211.09209948,  7153.10415712,  6983.2159381 , 15987.29154616,\n",
       "       11740.08607066,  7492.88059516,  7153.10415712, 10041.20388046,\n",
       "       17516.28551734, 13099.19182282,  9361.65100438,  8682.0981283 ,\n",
       "        8682.0981283 , 11060.53319458,  7153.10415712,  7492.88059516,\n",
       "        7492.88059516,  6643.43950006,  6983.2159381 ,  9191.76278536,\n",
       "        6813.32771908, 13438.96826086,  6643.43950006,  6983.2159381 ,\n",
       "       13099.19182282,  6643.43950006, 15477.6268891 , 12759.41538478,\n",
       "        8851.98634732,  6813.32771908,  9361.65100438,  8512.20990928,\n",
       "        9701.42744242, 10041.20388046, 10041.20388046,  8851.98634732,\n",
       "        9701.42744242,  8851.98634732,  9531.5392234 ,  7832.6570332 ,\n",
       "        9531.5392234 , 10041.20388046, 10041.20388046, 12929.3036038 ,\n",
       "        6813.32771908, 16836.73264126, 10041.20388046, 12759.41538478,\n",
       "        6643.43950006,  6643.43950006,  6813.32771908,  6983.2159381 ,\n",
       "        9191.76278536,  9871.31566144,  9191.76278536,  6983.2159381 ,\n",
       "       12759.41538478,  7492.88059516, 19554.94414558,  6813.32771908,\n",
       "       10041.20388046, 15987.29154616,  7832.6570332 , 10041.20388046,\n",
       "       11740.08607066, 13948.63291792, 10041.20388046, 11230.4214136 ,\n",
       "       11060.53319458,  7153.10415712, 10380.9803185 ,  6643.43950006,\n",
       "        7662.76881418,  9531.5392234 ,  9191.76278536,  8851.98634732,\n",
       "       13778.7446989 ,  9021.87456634, 13099.19182282,  7832.6570332 ,\n",
       "       10041.20388046, 12929.3036038 , 16496.95620322,  6813.32771908,\n",
       "       15647.51510812, 13438.96826086,  8512.20990928, 11909.97428968,\n",
       "       12249.75072772,  8002.54525222,  9191.76278536, 19045.27948852,\n",
       "       12249.75072772, 10041.20388046,  9191.76278536, 12759.41538478,\n",
       "        6643.43950006, 10550.86853752, 11230.4214136 , 10890.64497556,\n",
       "       10041.20388046, 13269.08004184, 10041.20388046,  8851.98634732,\n",
       "        9191.76278536, 11060.53319458, 11570.19785164,  7492.88059516,\n",
       "       12249.75072772, 12419.63894674,  8342.32169026, 15137.85045106,\n",
       "        8002.54525222,  6983.2159381 , 13269.08004184, 10890.64497556,\n",
       "        6643.43950006,  7662.76881418, 16836.73264126,  9021.87456634,\n",
       "       17856.06195538, 10211.09209948,  7832.6570332 , 10041.20388046,\n",
       "       11740.08607066,  9871.31566144,  9021.87456634, 10041.20388046,\n",
       "       10041.20388046,  9701.42744242, 13778.7446989 ,  9701.42744242,\n",
       "        6643.43950006, 11060.53319458, 11230.4214136 ,  8512.20990928,\n",
       "        6643.43950006, 17006.62086028,  8682.0981283 , 10041.20388046,\n",
       "        6983.2159381 ,  7153.10415712, 12929.3036038 ,  7322.99237614,\n",
       "       17346.39729832,  8342.32169026, 10041.20388046, 15307.73867008,\n",
       "       20064.60880264,  8682.0981283 , 17346.39729832, 14628.185794  ,\n",
       "        9021.87456634,  7322.99237614, 13778.7446989 , 11570.19785164,\n",
       "       16496.95620322, 10550.86853752,  6813.32771908,  7322.99237614,\n",
       "        6643.43950006,  7492.88059516,  7662.76881418, 11060.53319458,\n",
       "        8682.0981283 , 17516.28551734, 13608.85647988, 11060.53319458,\n",
       "        9701.42744242,  9871.31566144,  9361.65100438,  9701.42744242,\n",
       "       10380.9803185 , 18875.3912695 ,  9531.5392234 , 13269.08004184,\n",
       "        8172.43347124, 13608.85647988,  7492.88059516, 19045.27948852,\n",
       "       14288.40935596,  9191.76278536, 11909.97428968,  8682.0981283 ,\n",
       "       15477.6268891 ,  6813.32771908,  9531.5392234 , 11060.53319458,\n",
       "       10550.86853752, 10041.20388046, 10380.9803185 , 14458.29757498,\n",
       "       15817.40332714, 15477.6268891 ,  8682.0981283 , 13608.85647988,\n",
       "        6983.2159381 , 14628.185794  ,  6813.32771908,  7322.99237614,\n",
       "       18365.72661244, 10041.20388046,  8851.98634732, 17006.62086028,\n",
       "       13438.96826086,  9701.42744242, 14288.40935596,  8682.0981283 ,\n",
       "       18705.50305048, 18195.83839342,  8512.20990928, 13608.85647988,\n",
       "        9701.42744242,  9701.42744242, 10041.20388046, 13269.08004184,\n",
       "       12079.8625087 , 10041.20388046, 10380.9803185 ,  7832.6570332 ,\n",
       "       10211.09209948, 11060.53319458,  8342.32169026,  8002.54525222,\n",
       "       13099.19182282, 15647.51510812, 10041.20388046, 10720.75675654,\n",
       "       12929.3036038 ,  6983.2159381 ,  7492.88059516, 12759.41538478,\n",
       "        7153.10415712,  7662.76881418, 11060.53319458,  6983.2159381 ,\n",
       "        7322.99237614,  8172.43347124, 10041.20388046, 11230.4214136 ,\n",
       "       10041.20388046, 10211.09209948, 12249.75072772, 10211.09209948,\n",
       "        7832.6570332 ,  6983.2159381 ,  8682.0981283 ,  9871.31566144,\n",
       "        8172.43347124, 10041.20388046, 18705.50305048,  7153.10415712,\n",
       "       11230.4214136 , 10890.64497556,  9701.42744242, 12079.8625087 ,\n",
       "        7662.76881418, 13099.19182282,  8172.43347124,  9191.76278536,\n",
       "       16836.73264126,  8512.20990928, 13778.7446989 ,  7492.88059516,\n",
       "        9701.42744242, 11740.08607066, 10041.20388046,  8512.20990928,\n",
       "        7153.10415712, 13099.19182282, 10041.20388046, 13778.7446989 ,\n",
       "        7662.76881418,  8172.43347124, 10041.20388046, 10041.20388046,\n",
       "       10380.9803185 , 19045.27948852, 10041.20388046,  8342.32169026,\n",
       "        8682.0981283 ,  7662.76881418, 10041.20388046])"
      ]
     },
     "execution_count": 19,
     "metadata": {},
     "output_type": "execute_result"
    }
   ],
   "source": [
    "y_pred"
   ]
  },
  {
   "cell_type": "markdown",
   "id": "2c0871db",
   "metadata": {},
   "source": [
    "### To evaluate the efficiency of your regression model, you can use various metrics. Here are three commonly used regression metrics: mean absolute error (MAE), mean absolute percentage error (MAPE), and mean squared error (MSE). I'll also provide a brief explanation of each metric:\n",
    "\n",
    "> * 1. **Mean Absolute Error (MAE):**\n",
    "   - The MAE measures the average absolute difference between the predicted values and the actual values. It is less sensitive to outliers compared to MSE.\n",
    "\n",
    "   ```python\n",
    "   from sklearn.metrics import mean_absolute_error\n",
    "\n",
    "   mae = mean_absolute_error(y_test, predictions)\n",
    "   print(f'Mean Absolute Error: {mae}')\n",
    "   ```\n",
    "\n",
    "> * 2. **Mean Absolute Percentage Error (MAPE):**\n",
    "   - The MAPE expresses the prediction error as a percentage of the actual values. It is useful when you want to understand the accuracy of the model in terms of percentage error.\n",
    "\n",
    "   ```python\n",
    "   def mean_absolute_percentage_error(y_true, y_pred): \n",
    "       y_true, y_pred = np.array(y_true), np.array(y_pred)\n",
    "       return np.mean(np.abs((y_true - y_pred) / y_true)) * 100\n",
    "\n",
    "   mape = mean_absolute_percentage_error(y_test, predictions)\n",
    "   print(f'Mean Absolute Percentage Error: {mape}%')\n",
    "   ```\n",
    "\n",
    "> * 3. **Mean Squared Error (MSE):**\n",
    "   - The MSE measures the average squared difference between the predicted and actual values. It amplifies larger errors more than smaller ones.\n",
    "\n",
    "   ```python\n",
    "   from sklearn.metrics import mean_squared_error\n",
    "\n",
    "   mse = mean_squared_error(y_test, predictions)\n",
    "   print(f'Mean Squared Error: {mse}')\n",
    "   ```\n",
    "\n",
    "In terms of interpreting these metrics, lower values for MAE, MAPE, and MSE indicate better model performance. When comparing different models or assessing the impact of hyperparameter changes, you should consider these metrics collectively.\n",
    "\n",
    "It's often a good practice to use multiple metrics and not rely on a single metric for model evaluation. Additionally, visualizing the predicted vs. actual values through scatter plots or residual plots can provide more insights into model performance.\n",
    "\n"
   ]
  },
  {
   "cell_type": "code",
   "execution_count": 20,
   "id": "06f9d6b6",
   "metadata": {},
   "outputs": [],
   "source": [
    "# Step 8 : model accuracy\n",
    "from sklearn.metrics import mean_absolute_error, mean_absolute_percentage_error, mean_squared_error"
   ]
  },
  {
   "cell_type": "code",
   "execution_count": 21,
   "id": "d81b2c32",
   "metadata": {},
   "outputs": [
    {
     "data": {
      "text/plain": [
       "1319.5350369738574"
      ]
     },
     "execution_count": 21,
     "metadata": {},
     "output_type": "execute_result"
    }
   ],
   "source": [
    "mean_absolute_error(y_test,y_pred)"
   ]
  },
  {
   "cell_type": "code",
   "execution_count": 22,
   "id": "df766875",
   "metadata": {},
   "outputs": [
    {
     "data": {
      "text/plain": [
       "0.12723906663617152"
      ]
     },
     "execution_count": 22,
     "metadata": {},
     "output_type": "execute_result"
    }
   ],
   "source": [
    "mean_absolute_percentage_error(y_test,y_pred)"
   ]
  },
  {
   "cell_type": "code",
   "execution_count": 23,
   "id": "571f9fa8",
   "metadata": {},
   "outputs": [
    {
     "data": {
      "text/plain": [
       "3472379.994722605"
      ]
     },
     "execution_count": 23,
     "metadata": {},
     "output_type": "execute_result"
    }
   ],
   "source": [
    "mean_squared_error(y_test,y_pred)"
   ]
  },
  {
   "cell_type": "code",
   "execution_count": null,
   "id": "478d42c4",
   "metadata": {},
   "outputs": [],
   "source": []
  }
 ],
 "metadata": {
  "kernelspec": {
   "display_name": "Python 3 (ipykernel)",
   "language": "python",
   "name": "python3"
  },
  "language_info": {
   "codemirror_mode": {
    "name": "ipython",
    "version": 3
   },
   "file_extension": ".py",
   "mimetype": "text/x-python",
   "name": "python",
   "nbconvert_exporter": "python",
   "pygments_lexer": "ipython3",
   "version": "3.9.7"
  }
 },
 "nbformat": 4,
 "nbformat_minor": 5
}
