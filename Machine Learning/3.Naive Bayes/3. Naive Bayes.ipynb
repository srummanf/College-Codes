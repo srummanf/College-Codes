{
 "cells": [
  {
   "cell_type": "code",
   "execution_count": 1,
   "id": "02b3506f",
   "metadata": {},
   "outputs": [],
   "source": [
    "from pandas import read_csv\n",
    "import pandas as pd\n",
    "from sklearn.model_selection import train_test_split"
   ]
  },
  {
   "cell_type": "code",
   "execution_count": 28,
   "id": "3dc6ff06",
   "metadata": {},
   "outputs": [
    {
     "name": "stdout",
     "output_type": "stream",
     "text": [
      "Train (216, 13) (216,)\n",
      "Test (54, 13) (54,)\n"
     ]
    }
   ],
   "source": [
    "data=read_csv(\"heart_disease.csv\",header=None)\n",
    "data = data.apply(pd.to_numeric, errors='coerce')\n",
    "\n",
    "data = data.dropna()\n",
    "\n",
    "dataset=data.values\n",
    "\n",
    "X=dataset[:,:-1]\n",
    "y=dataset[:,-1]\n",
    "\n",
    "X_train,X_test,y_train,y_test=train_test_split(X,y,test_size=0.2,random_state=1)\n",
    "print('Train',X_train.shape,y_train.shape)\n",
    "print('Test',X_test.shape,y_test.shape)"
   ]
  },
  {
   "cell_type": "code",
   "execution_count": 29,
   "id": "35f72791",
   "metadata": {},
   "outputs": [],
   "source": [
    "from sklearn.preprocessing import StandardScaler\n",
    "sc=StandardScaler()\n",
    "\n",
    "X_train=sc.fit_transform(X_train)\n",
    "X_test=sc.transform(X_test)"
   ]
  },
  {
   "cell_type": "code",
   "execution_count": 30,
   "id": "35dca324",
   "metadata": {},
   "outputs": [
    {
     "data": {
      "text/plain": [
       "GaussianNB()"
      ]
     },
     "execution_count": 30,
     "metadata": {},
     "output_type": "execute_result"
    }
   ],
   "source": [
    "from sklearn.naive_bayes import GaussianNB\n",
    "import numpy as np\n",
    "\n",
    "NBclassif=GaussianNB()\n",
    "\n",
    "bins = np.linspace(min(y_train), max(y_train), num=6)\n",
    "y_train_binned = np.digitize(y_train, bins)\n",
    "\n",
    "NBclassif.fit(X_train, y_train_binned)"
   ]
  },
  {
   "cell_type": "code",
   "execution_count": 31,
   "id": "434544a9",
   "metadata": {},
   "outputs": [
    {
     "data": {
      "text/plain": [
       "array([1, 6, 1, 6, 6, 6, 6, 6, 1, 6, 6, 6, 6, 1, 1, 6, 1, 6, 6, 1, 6, 1,\n",
       "       1, 1, 1, 1, 6, 1, 1, 1, 1, 1, 1, 6, 1, 1, 1, 1, 1, 6, 1, 1, 6, 1,\n",
       "       1, 6, 1, 6, 1, 6, 1, 6, 1, 1], dtype=int64)"
      ]
     },
     "execution_count": 31,
     "metadata": {},
     "output_type": "execute_result"
    }
   ],
   "source": [
    "ypred=NBclassif.predict(X_test)\n",
    "ypred"
   ]
  },
  {
   "cell_type": "code",
   "execution_count": 57,
   "id": "a8938a49",
   "metadata": {},
   "outputs": [
    {
     "data": {
      "image/png": "[encoded data removed]",
      "text/plain": [
       "<Figure size 576x432 with 2 Axes>"
      ]
     },
     "metadata": {
      "needs_background": "light"
     },
     "output_type": "display_data"
    }
   ],
   "source": [
    "import seaborn as sns\n",
    "import matplotlib.pyplot as plt\n",
    "\n",
    "# Compute confusion matrix and accuracy score\n",
    "from sklearn.metrics import confusion_matrix, accuracy_score\n",
    "cm = confusion_matrix(y_test, ypred)\n",
    "acc = accuracy_score(y_test, ypred)\n",
    "\n",
    "# Create a heatmap visualization\n",
    "plt.figure(figsize=(8, 6))\n",
    "sns.heatmap(cm, annot=True, fmt='d', cmap='Blues')\n",
    "plt.title(f'Confusion Matrix (Accuracy: {acc:.4f})')\n",
    "plt.xlabel('Predicted Labels')\n",
    "plt.ylabel('True Labels')\n",
    "plt.show()"
   ]
  },
  {
   "cell_type": "code",
   "execution_count": 49,
   "id": "56d5a3e8",
   "metadata": {},
   "outputs": [
    {
     "name": "stdout",
     "output_type": "stream",
     "text": [
      "[[28  3]\n",
      " [ 5 18]]\n"
     ]
    }
   ],
   "source": [
    "print(cm)"
   ]
  },
  {
   "cell_type": "code",
   "execution_count": 34,
   "id": "83a3bef8",
   "metadata": {},
   "outputs": [
    {
     "data": {
      "text/plain": [
       "0.07407407407407407"
      ]
     },
     "execution_count": 34,
     "metadata": {},
     "output_type": "execute_result"
    }
   ],
   "source": [
    "acc"
   ]
  },
  {
   "cell_type": "code",
   "execution_count": 61,
   "id": "1e622aca",
   "metadata": {},
   "outputs": [
    {
     "name": "stdout",
     "output_type": "stream",
     "text": [
      "              precision    recall  f1-score   support\n",
      "\n",
      "         0.0       0.85      0.90      0.88        31\n",
      "         1.0       0.86      0.78      0.82        23\n",
      "\n",
      "    accuracy                           0.85        54\n",
      "   macro avg       0.85      0.84      0.85        54\n",
      "weighted avg       0.85      0.85      0.85        54\n",
      "\n"
     ]
    }
   ],
   "source": [
    "from sklearn.metrics import classification_report\n",
    "\n",
    "classy_rep = classification_report(y_test, ypred, zero_division=1)\n",
    "print(classy_rep)"
   ]
  },
  {
   "cell_type": "code",
   "execution_count": 36,
   "id": "516e61de",
   "metadata": {},
   "outputs": [],
   "source": [
    "# HYPERTUNING PARAMS"
   ]
  },
  {
   "cell_type": "code",
   "execution_count": 37,
   "id": "c48ed777",
   "metadata": {},
   "outputs": [],
   "source": [
    "import numpy as np"
   ]
  },
  {
   "cell_type": "code",
   "execution_count": 38,
   "id": "f6be0099",
   "metadata": {},
   "outputs": [],
   "source": [
    "from sklearn.model_selection import RepeatedStratifiedKFold\n",
    "cv=RepeatedStratifiedKFold(n_splits=5,n_repeats=15,random_state=1)"
   ]
  },
  {
   "cell_type": "code",
   "execution_count": 39,
   "id": "860b5b6d",
   "metadata": {},
   "outputs": [
    {
     "name": "stdout",
     "output_type": "stream",
     "text": [
      "Fitting 75 folds for each of 500 candidates, totalling 37500 fits\n"
     ]
    },
    {
     "data": {
      "text/plain": [
       "GridSearchCV(cv=RepeatedStratifiedKFold(n_repeats=15, n_splits=5, random_state=1),\n",
       "             estimator=GaussianNB(),\n",
       "             param_grid={'var_smoothing': array([1.00000000e+00, 9.54904456e-01, 9.11842520e-01, 8.70722485e-01,\n",
       "       8.31456781e-01, 7.93961785e-01, 7.58157646e-01, 7.23968114e-01,\n",
       "       6.91320378e-01, 6.60144909e-01, 6.30375315e-01, 6.01948197e-01,\n",
       "       5.74803016e-01, 5.48881961e-01, 5....\n",
       "       2.89015972e-10, 2.75982639e-10, 2.63537052e-10, 2.51652705e-10,\n",
       "       2.40304289e-10, 2.29467637e-10, 2.19119669e-10, 2.09238348e-10,\n",
       "       1.99802631e-10, 1.90792422e-10, 1.82188534e-10, 1.73972643e-10,\n",
       "       1.66127252e-10, 1.58635653e-10, 1.51481892e-10, 1.44650734e-10,\n",
       "       1.38127630e-10, 1.31898690e-10, 1.25950646e-10, 1.20270833e-10,\n",
       "       1.14847155e-10, 1.09668060e-10, 1.04722519e-10, 1.00000000e-10])},\n",
       "             scoring='accuracy', verbose=1)"
      ]
     },
     "execution_count": 39,
     "metadata": {},
     "output_type": "execute_result"
    }
   ],
   "source": [
    "from sklearn.preprocessing import PowerTransformer\n",
    "from sklearn.model_selection import GridSearchCV\n",
    "\n",
    "grid_param={'var_smoothing':np.logspace(0,-10,500)}\n",
    "grid_NB=GridSearchCV(estimator=NBclassif, param_grid=grid_param, cv=cv, verbose=1, scoring='accuracy')\n",
    "\n",
    "data_trans=PowerTransformer().fit_transform(X_test)\n",
    "grid_NB.fit(data_trans,y_test)"
   ]
  },
  {
   "cell_type": "code",
   "execution_count": 40,
   "id": "a36a4c44",
   "metadata": {},
   "outputs": [
    {
     "data": {
      "text/plain": [
       "0.8080000000000002"
      ]
     },
     "execution_count": 40,
     "metadata": {},
     "output_type": "execute_result"
    }
   ],
   "source": [
    "grid_NB.best_score_"
   ]
  },
  {
   "cell_type": "code",
   "execution_count": 41,
   "id": "eb99c589",
   "metadata": {},
   "outputs": [
    {
     "data": {
      "text/plain": [
       "{'var_smoothing': 0.114318425012915}"
      ]
     },
     "execution_count": 41,
     "metadata": {},
     "output_type": "execute_result"
    }
   ],
   "source": [
    "grid_NB.best_params_"
   ]
  },
  {
   "cell_type": "code",
   "execution_count": 42,
   "id": "f68df573",
   "metadata": {},
   "outputs": [],
   "source": [
    "ypred=grid_NB.predict(X_test)"
   ]
  },
  {
   "cell_type": "code",
   "execution_count": 43,
   "id": "7059272c",
   "metadata": {},
   "outputs": [],
   "source": [
    "cm=confusion_matrix(y_test,ypred)\n",
    "acc=accuracy_score(y_test,ypred)"
   ]
  },
  {
   "cell_type": "code",
   "execution_count": 44,
   "id": "3729a104",
   "metadata": {},
   "outputs": [
    {
     "data": {
      "text/plain": [
       "array([[28,  3],\n",
       "       [ 5, 18]], dtype=int64)"
      ]
     },
     "execution_count": 44,
     "metadata": {},
     "output_type": "execute_result"
    }
   ],
   "source": [
    "cm"
   ]
  },
  {
   "cell_type": "code",
   "execution_count": 45,
   "id": "02dc0ba7",
   "metadata": {},
   "outputs": [
    {
     "data": {
      "text/plain": [
       "0.8518518518518519"
      ]
     },
     "execution_count": 45,
     "metadata": {},
     "output_type": "execute_result"
    }
   ],
   "source": [
    "acc"
   ]
  },
  {
   "cell_type": "code",
   "execution_count": 46,
   "id": "e6d8fad4",
   "metadata": {},
   "outputs": [
    {
     "data": {
      "text/plain": [
       "'              precision    recall  f1-score   support\\n\\n         0.0       0.85      0.90      0.88        31\\n         1.0       0.86      0.78      0.82        23\\n\\n    accuracy                           0.85        54\\n   macro avg       0.85      0.84      0.85        54\\nweighted avg       0.85      0.85      0.85        54\\n'"
      ]
     },
     "execution_count": 46,
     "metadata": {},
     "output_type": "execute_result"
    }
   ],
   "source": [
    "cr=classification_report(y_test,ypred)\n",
    "cr"
   ]
  },
  {
   "cell_type": "code",
   "execution_count": 47,
   "id": "e568e97d",
   "metadata": {},
   "outputs": [
    {
     "name": "stdout",
     "output_type": "stream",
     "text": [
      "              precision    recall  f1-score   support\n",
      "\n",
      "         0.0       0.85      0.90      0.88        31\n",
      "         1.0       0.86      0.78      0.82        23\n",
      "\n",
      "    accuracy                           0.85        54\n",
      "   macro avg       0.85      0.84      0.85        54\n",
      "weighted avg       0.85      0.85      0.85        54\n",
      "\n"
     ]
    }
   ],
   "source": [
    "print(cr)"
   ]
  },
  {
   "cell_type": "code",
   "execution_count": null,
   "id": "d4b12633",
   "metadata": {},
   "outputs": [],
   "source": []
  },
  {
   "cell_type": "code",
   "execution_count": null,
   "id": "f0a829ef",
   "metadata": {},
   "outputs": [],
   "source": []
  }
 ],
 "metadata": {
  "kernelspec": {
   "display_name": "Python 3 (ipykernel)",
   "language": "python",
   "name": "python3"
  },
  "language_info": {
   "codemirror_mode": {
    "name": "ipython",
    "version": 3
   },
   "file_extension": ".py",
   "mimetype": "text/x-python",
   "name": "python",
   "nbconvert_exporter": "python",
   "pygments_lexer": "ipython3",
   "version": "3.9.7"
  }
 },
 "nbformat": 4,
 "nbformat_minor": 5
}
