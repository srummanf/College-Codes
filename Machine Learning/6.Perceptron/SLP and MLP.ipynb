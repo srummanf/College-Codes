{
 "cells": [
  {
   "cell_type": "code",
   "execution_count": 27,
   "id": "ff0749bc",
   "metadata": {},
   "outputs": [],
   "source": [
    "import numpy as np\n",
    "import pandas as pd\n",
    "import seaborn as sns\n",
    "import matplotlib.pyplot as plt\n"
   ]
  },
  {
   "cell_type": "code",
   "execution_count": 28,
   "id": "1a273947",
   "metadata": {},
   "outputs": [
    {
     "data": {
      "text/html": [
       "<div>\n",
       "<style scoped>\n",
       "    .dataframe tbody tr th:only-of-type {\n",
       "        vertical-align: middle;\n",
       "    }\n",
       "\n",
       "    .dataframe tbody tr th {\n",
       "        vertical-align: top;\n",
       "    }\n",
       "\n",
       "    .dataframe thead th {\n",
       "        text-align: right;\n",
       "    }\n",
       "</style>\n",
       "<table border=\"1\" class=\"dataframe\">\n",
       "  <thead>\n",
       "    <tr style=\"text-align: right;\">\n",
       "      <th></th>\n",
       "      <th>Size</th>\n",
       "      <th>Weight</th>\n",
       "      <th>Sweetness</th>\n",
       "      <th>Softness</th>\n",
       "      <th>HarvestTime</th>\n",
       "      <th>Ripeness</th>\n",
       "      <th>Acidity</th>\n",
       "      <th>Quality</th>\n",
       "    </tr>\n",
       "  </thead>\n",
       "  <tbody>\n",
       "    <tr>\n",
       "      <th>0</th>\n",
       "      <td>-1.924968</td>\n",
       "      <td>0.468078</td>\n",
       "      <td>3.077832</td>\n",
       "      <td>-1.472177</td>\n",
       "      <td>0.294799</td>\n",
       "      <td>2.435570</td>\n",
       "      <td>0.271290</td>\n",
       "      <td>Good</td>\n",
       "    </tr>\n",
       "    <tr>\n",
       "      <th>1</th>\n",
       "      <td>-2.409751</td>\n",
       "      <td>0.486870</td>\n",
       "      <td>0.346921</td>\n",
       "      <td>-2.495099</td>\n",
       "      <td>-0.892213</td>\n",
       "      <td>2.067549</td>\n",
       "      <td>0.307325</td>\n",
       "      <td>Good</td>\n",
       "    </tr>\n",
       "    <tr>\n",
       "      <th>2</th>\n",
       "      <td>-0.357607</td>\n",
       "      <td>1.483176</td>\n",
       "      <td>1.568452</td>\n",
       "      <td>-2.645145</td>\n",
       "      <td>-0.647267</td>\n",
       "      <td>3.090643</td>\n",
       "      <td>1.427322</td>\n",
       "      <td>Good</td>\n",
       "    </tr>\n",
       "    <tr>\n",
       "      <th>3</th>\n",
       "      <td>-0.868524</td>\n",
       "      <td>1.566201</td>\n",
       "      <td>1.889605</td>\n",
       "      <td>-1.273761</td>\n",
       "      <td>-1.006278</td>\n",
       "      <td>1.873001</td>\n",
       "      <td>0.477862</td>\n",
       "      <td>Good</td>\n",
       "    </tr>\n",
       "    <tr>\n",
       "      <th>4</th>\n",
       "      <td>0.651825</td>\n",
       "      <td>1.319199</td>\n",
       "      <td>-0.022459</td>\n",
       "      <td>-1.209709</td>\n",
       "      <td>-1.430692</td>\n",
       "      <td>1.078345</td>\n",
       "      <td>2.812442</td>\n",
       "      <td>Good</td>\n",
       "    </tr>\n",
       "    <tr>\n",
       "      <th>...</th>\n",
       "      <td>...</td>\n",
       "      <td>...</td>\n",
       "      <td>...</td>\n",
       "      <td>...</td>\n",
       "      <td>...</td>\n",
       "      <td>...</td>\n",
       "      <td>...</td>\n",
       "      <td>...</td>\n",
       "    </tr>\n",
       "    <tr>\n",
       "      <th>7995</th>\n",
       "      <td>-6.414403</td>\n",
       "      <td>0.723565</td>\n",
       "      <td>1.134953</td>\n",
       "      <td>2.952763</td>\n",
       "      <td>0.297928</td>\n",
       "      <td>-0.156946</td>\n",
       "      <td>2.398091</td>\n",
       "      <td>Bad</td>\n",
       "    </tr>\n",
       "    <tr>\n",
       "      <th>7996</th>\n",
       "      <td>0.851143</td>\n",
       "      <td>-2.217875</td>\n",
       "      <td>-2.812175</td>\n",
       "      <td>0.489249</td>\n",
       "      <td>-1.323410</td>\n",
       "      <td>-2.316883</td>\n",
       "      <td>2.113136</td>\n",
       "      <td>Bad</td>\n",
       "    </tr>\n",
       "    <tr>\n",
       "      <th>7997</th>\n",
       "      <td>1.422722</td>\n",
       "      <td>-1.907665</td>\n",
       "      <td>-2.532364</td>\n",
       "      <td>0.964976</td>\n",
       "      <td>-0.562375</td>\n",
       "      <td>-1.834765</td>\n",
       "      <td>0.697361</td>\n",
       "      <td>Bad</td>\n",
       "    </tr>\n",
       "    <tr>\n",
       "      <th>7998</th>\n",
       "      <td>-2.131904</td>\n",
       "      <td>-2.742600</td>\n",
       "      <td>-1.008029</td>\n",
       "      <td>2.126946</td>\n",
       "      <td>-0.802632</td>\n",
       "      <td>-3.580266</td>\n",
       "      <td>0.423569</td>\n",
       "      <td>Bad</td>\n",
       "    </tr>\n",
       "    <tr>\n",
       "      <th>7999</th>\n",
       "      <td>-2.660879</td>\n",
       "      <td>-2.044666</td>\n",
       "      <td>0.159026</td>\n",
       "      <td>1.499706</td>\n",
       "      <td>-1.581856</td>\n",
       "      <td>-1.605859</td>\n",
       "      <td>1.435644</td>\n",
       "      <td>Bad</td>\n",
       "    </tr>\n",
       "  </tbody>\n",
       "</table>\n",
       "<p>8000 rows × 8 columns</p>\n",
       "</div>"
      ],
      "text/plain": [
       "          Size    Weight  Sweetness  Softness  HarvestTime  Ripeness  \\\n",
       "0    -1.924968  0.468078   3.077832 -1.472177     0.294799  2.435570   \n",
       "1    -2.409751  0.486870   0.346921 -2.495099    -0.892213  2.067549   \n",
       "2    -0.357607  1.483176   1.568452 -2.645145    -0.647267  3.090643   \n",
       "3    -0.868524  1.566201   1.889605 -1.273761    -1.006278  1.873001   \n",
       "4     0.651825  1.319199  -0.022459 -1.209709    -1.430692  1.078345   \n",
       "...        ...       ...        ...       ...          ...       ...   \n",
       "7995 -6.414403  0.723565   1.134953  2.952763     0.297928 -0.156946   \n",
       "7996  0.851143 -2.217875  -2.812175  0.489249    -1.323410 -2.316883   \n",
       "7997  1.422722 -1.907665  -2.532364  0.964976    -0.562375 -1.834765   \n",
       "7998 -2.131904 -2.742600  -1.008029  2.126946    -0.802632 -3.580266   \n",
       "7999 -2.660879 -2.044666   0.159026  1.499706    -1.581856 -1.605859   \n",
       "\n",
       "       Acidity Quality  \n",
       "0     0.271290    Good  \n",
       "1     0.307325    Good  \n",
       "2     1.427322    Good  \n",
       "3     0.477862    Good  \n",
       "4     2.812442    Good  \n",
       "...        ...     ...  \n",
       "7995  2.398091     Bad  \n",
       "7996  2.113136     Bad  \n",
       "7997  0.697361     Bad  \n",
       "7998  0.423569     Bad  \n",
       "7999  1.435644     Bad  \n",
       "\n",
       "[8000 rows x 8 columns]"
      ]
     },
     "execution_count": 28,
     "metadata": {},
     "output_type": "execute_result"
    }
   ],
   "source": [
    "df = pd.read_csv(\"banana_quality.csv\")\n",
    "df"
   ]
  },
  {
   "cell_type": "code",
   "execution_count": 29,
   "id": "39ea45a3",
   "metadata": {},
   "outputs": [],
   "source": [
    "from sklearn.model_selection import train_test_split\n",
    "\n",
    "X = df.drop('Quality', axis=1)\n",
    "y = df['Quality']\n",
    "\n",
    "X_train, X_test, y_train, y_test = train_test_split(X,y, test_size = 0.5, random_state = 40)\n"
   ]
  },
  {
   "cell_type": "code",
   "execution_count": 30,
   "id": "ab33ae31",
   "metadata": {},
   "outputs": [
    {
     "name": "stdout",
     "output_type": "stream",
     "text": [
      "Accuracy of Single Layer Perceptron: 82.60%\n"
     ]
    }
   ],
   "source": [
    "from sklearn.linear_model import Perceptron\n",
    "from sklearn.metrics import accuracy_score\n",
    "\n",
    "slp = Perceptron(max_iter=100, eta0=0.1, random_state=42)\n",
    "slp.fit(X_train, y_train)\n",
    "\n",
    "# Make predictions on the test set\n",
    "y_pred = slp.predict(X_test)\n",
    "\n",
    "# Calculate accuracy\n",
    "accuracy = accuracy_score(y_test, y_pred)\n",
    "print(f'Accuracy of Single Layer Perceptron: {accuracy * 100:.2f}%')"
   ]
  },
  {
   "cell_type": "code",
   "execution_count": 31,
   "id": "b7c3c7f9",
   "metadata": {},
   "outputs": [
    {
     "data": {
      "image/png": "[encoded data removed]",
      "text/plain": [
       "<Figure size 576x432 with 2 Axes>"
      ]
     },
     "metadata": {
      "needs_background": "light"
     },
     "output_type": "display_data"
    },
    {
     "name": "stdout",
     "output_type": "stream",
     "text": [
      "Classification Report:\n",
      "               precision    recall  f1-score   support\n",
      "\n",
      "         Bad       0.90      0.74      0.81      2043\n",
      "        Good       0.77      0.91      0.84      1957\n",
      "\n",
      "    accuracy                           0.83      4000\n",
      "   macro avg       0.84      0.83      0.83      4000\n",
      "weighted avg       0.84      0.83      0.82      4000\n",
      "\n"
     ]
    }
   ],
   "source": [
    "from sklearn.metrics import confusion_matrix, classification_report\n",
    "\n",
    "\n",
    "# Confusion Matrix\n",
    "cm = confusion_matrix(y_test, y_pred)\n",
    "plt.figure(figsize=(8, 6))\n",
    "sns.heatmap(cm, annot=True, cmap='Blues', fmt='g')\n",
    "plt.title('Confusion Matrix')\n",
    "plt.xlabel('Predicted Labels')\n",
    "plt.ylabel('True Labels')\n",
    "plt.show()\n",
    "\n",
    "# Classification Report\n",
    "report = classification_report(y_test, y_pred)\n",
    "print('Classification Report:\\n', report)"
   ]
  },
  {
   "cell_type": "code",
   "execution_count": 32,
   "id": "39093d90",
   "metadata": {},
   "outputs": [
    {
     "name": "stdout",
     "output_type": "stream",
     "text": [
      "Accuracy of Multi-Layer Perceptron: 97.08%\n"
     ]
    }
   ],
   "source": [
    "import pandas as pd\n",
    "from sklearn.model_selection import train_test_split\n",
    "from sklearn.neural_network import MLPClassifier\n",
    "from sklearn.metrics import accuracy_score\n",
    "\n",
    "\n",
    "# Create and train the MLP model\n",
    "mlp = MLPClassifier(hidden_layer_sizes=(10,), max_iter=1000, solver='adam', random_state=42)\n",
    "mlp.fit(X_train, y_train)\n",
    "\n",
    "# Make predictions on the test set\n",
    "y_pred = mlp.predict(X_test)\n",
    "\n",
    "# Calculate accuracy\n",
    "accuracy = accuracy_score(y_test, y_pred)\n",
    "print(f'Accuracy of Multi-Layer Perceptron: {accuracy * 100:.2f}%')"
   ]
  },
  {
   "cell_type": "code",
   "execution_count": null,
   "id": "907183cc",
   "metadata": {},
   "outputs": [],
   "source": []
  },
  {
   "cell_type": "code",
   "execution_count": null,
   "id": "41b7818c",
   "metadata": {},
   "outputs": [],
   "source": []
  }
 ],
 "metadata": {
  "kernelspec": {
   "display_name": "Python 3 (ipykernel)",
   "language": "python",
   "name": "python3"
  },
  "language_info": {
   "codemirror_mode": {
    "name": "ipython",
    "version": 3
   },
   "file_extension": ".py",
   "mimetype": "text/x-python",
   "name": "python",
   "nbconvert_exporter": "python",
   "pygments_lexer": "ipython3",
   "version": "3.9.7"
  }
 },
 "nbformat": 4,
 "nbformat_minor": 5
}
